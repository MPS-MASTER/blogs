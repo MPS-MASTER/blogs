{
 "cells": [
  {
   "cell_type": "markdown",
   "metadata": {},
   "source": [
    "# Pipeline for PDF to text extraction\n",
    "\n"
   ]
  },
  {
   "cell_type": "markdown",
   "metadata": {},
   "source": [
    "## Start.................\n",
    "### libraries Required\n",
    "- PIL(from PIL import Image )\n",
    "- pytesseract(import pytesseract )\n",
    "- tesserect should be instealled in your system and should be in system path \n",
    "- pdf2image(from pdf2image import convert_from_path )\n",
    "- opencv-python(import cv2)\n",
    "- import os\n",
    "- import sys\n",
    "\n",
    "## Pipe line steps\n",
    "\n",
    "\n",
    "1. Read the pdf file\n",
    "2. Convert it to image\n",
    "3. Use pytesserect to convert image to text and save it\n",
    "4. Now there are two ways to find whats in the box\n",
    "\n",
    "\n",
    "- Regex based\n",
    "- using opencv(cv2)\n",
    "\n",
    "\n",
    "#### - Opencv Based :\n",
    "1. convert pdf to image\n",
    "2. get the rectangle box dimentions(x1, y1, x2, y2)\n",
    "3. crop the image of rectangle dimention and location \n",
    "4. use pytesserect to convert from image to string\n",
    "\n",
    "\n",
    "#### - Regex Based :\n",
    "1. convert whole image to text\n",
    "2. It will use some assumptions and some keywords to find patterns\n"
   ]
  },
  {
   "cell_type": "markdown",
   "metadata": {},
   "source": [
    "## I have coded the schenario\n",
    "\n",
    "#### 1. OpenCV based\n",
    "#### 2. Regex Based"
   ]
  },
  {
   "cell_type": "code",
   "execution_count": 10,
   "metadata": {},
   "outputs": [],
   "source": [
    "# ---------------------------- Step1 : convert pdf to images and save it\n",
    "\n",
    "\n",
    "\n",
    "\n",
    "from PIL import Image \n",
    "import pytesseract \n",
    "import sys \n",
    "from pdf2image import convert_from_path \n",
    "import os \n",
    "import re\n",
    "from pprint import pprint\n",
    "# Path of the pdf \n",
    "PDF_file = \"AXIS.pdf\"\n",
    "\n",
    "''' \n",
    "Part #1 : Converting PDF to images \n",
    "'''\n",
    "\n",
    "# Store all the pages of the PDF in a variable \n",
    "pages = convert_from_path(PDF_file, dpi = 300) \n",
    "\n",
    "# Counter to store images of each page of PDF to image \n",
    "image_counter = 1\n",
    "\n",
    "# Iterate through all the pages stored above \n",
    "for page in pages: \n",
    "\n",
    "    filename = \"page_\"+str(image_counter)+\".jpg\"\n",
    "\n",
    "    # Save the image of the page in system \n",
    "    page.save(filename, 'JPEG') \n",
    "\n",
    "    # Increment the counter to update filename \n",
    "    image_counter = image_counter + 1\n"
   ]
  },
  {
   "cell_type": "code",
   "execution_count": 2,
   "metadata": {},
   "outputs": [
    {
     "data": {
      "text/plain": [
       "4"
      ]
     },
     "execution_count": 2,
     "metadata": {},
     "output_type": "execute_result"
    }
   ],
   "source": [
    "image_counter"
   ]
  },
  {
   "cell_type": "code",
   "execution_count": 92,
   "metadata": {},
   "outputs": [],
   "source": [
    "#------------------------------- Define varibles to hold rectangle dimentions of text box and results\n",
    "\n",
    "\n",
    "\n",
    "location = {}\n",
    "result_cv = {}"
   ]
  },
  {
   "cell_type": "code",
   "execution_count": 121,
   "metadata": {},
   "outputs": [],
   "source": [
    "# ------------------------   I have used microsoft paint to get dimentions of text box rectangle\n",
    "\n",
    "\n",
    "\n",
    "location[1] = [367, 515, 1147, 771]\n",
    "location[2] = [2688, 809, 3770, 1276]\n",
    "location[3] = [2688, 1303, 3770, 1699]\n",
    "location[4] = [697, 1629,2548, 2280]\n",
    "location[5] = [368, 3150, 3816,3671]"
   ]
  },
  {
   "cell_type": "code",
   "execution_count": 94,
   "metadata": {},
   "outputs": [],
   "source": [
    "# ----------------------- Since i have only one page of image,  load it\n",
    "\n",
    "\n",
    "\n",
    "import cv2\n",
    "img = cv2.imread(\"page_1.jpg\") \n",
    "\n",
    "im2 = img.copy() "
   ]
  },
  {
   "cell_type": "code",
   "execution_count": 95,
   "metadata": {},
   "outputs": [
    {
     "name": "stdout",
     "output_type": "stream",
     "text": [
      "367 515 1147 771\n",
      "2688 809 3770 1276\n",
      "2688 1303 3770 1699\n",
      "697 1629 2548 2280\n",
      "368 3150 3816 3671\n"
     ]
    }
   ],
   "source": [
    "#----------------------- Iterate every rectangle and crop it and ocr it to get text and save result to result_cv\n",
    "\n",
    "\n",
    "\n",
    "for cnt in location: \n",
    "    x, y, w, h = location[cnt]\n",
    "      \n",
    "    # Drawing a rectangle on copied image \n",
    "    rect = cv2.rectangle(im2, (x, y), (w, h), (0, 255, 0), 2) \n",
    "    print(x,y,w,h)\n",
    "    # Cropping the text block for giving input to OCR \n",
    "    cropped = im2[y:h, x:w] \n",
    " \n",
    "    text = pytesseract.image_to_string(cropped) \n",
    "    result_cv[cnt] = text\n",
    "    #print(cnt,text)\n",
    "    # Appending the text into file \n"
   ]
  },
  {
   "cell_type": "code",
   "execution_count": 96,
   "metadata": {},
   "outputs": [
    {
     "name": "stdout",
     "output_type": "stream",
     "text": [
      "{1: 'THOMSON SMITH LEACH\\n210 RUE FONTAINE\\n\\n \\n\\nLAFAYETTE, LA 70508',\n",
      " 2: 'Policy number: 01969879-O\\n'\n",
      "    '\\n'\n",
      "    'Underwritten by:\\n'\n",
      "    '\\n'\n",
      "    'Progressive Paloverde Insurance Co\\n'\n",
      "    '\\n'\n",
      "    'April 14,2020\\n'\n",
      "    '\\n'\n",
      "    'Policy Period:Apr 12, 2020 - Oct 12, 2020\\n'\n",
      "    'Page 1 of 3',\n",
      " 3: 'progressiveagent.com\\n'\n",
      "    'Online Service\\n'\n",
      "    'Make payments, check billing activity, print\\n'\n",
      "    'policy documents, or check the status of a\\n'\n",
      "    'claim.',\n",
      " 4: 'Commercial Auto\\n'\n",
      "    'Insurance Coverage Summary\\n'\n",
      "    '\\n'\n",
      "    'This is your Declarations Page\\n'\n",
      "    'Your coverage has changed',\n",
      " 5: 'Policy changes effective April 13, 2020\\n'\n",
      "    '\\n'\n",
      "    'Changes: The driver information has changed.\\n'\n",
      "    '\\n'\n",
      "    ' \\n'\n",
      "    '\\n'\n",
      "    'The changes shown above will not be effective prior to the time the '\n",
      "    'changes were requested.'}\n"
     ]
    }
   ],
   "source": [
    "pprint(result_cv)"
   ]
  },
  {
   "cell_type": "markdown",
   "metadata": {},
   "source": [
    "### clean output using regex\n",
    "\n",
    "\n"
   ]
  },
  {
   "cell_type": "code",
   "execution_count": 97,
   "metadata": {},
   "outputs": [
    {
     "name": "stdout",
     "output_type": "stream",
     "text": [
      "1 ====> THOMSON SMITH LEACH 210 RUE FONTAINE LAFAYETTE, LA 70508\n",
      "2 ====> Policy number: 01969879-O Underwritten by: Progressive Paloverde Insurance Co April 14,2020 Policy Period:Apr 12, 2020 - Oct 12, 2020 Page 1 of 3\n",
      "3 ====> progressiveagent.com Online Service Make payments, check billing activity, print policy documents, or check the status of a claim.\n",
      "4 ====> Commercial Auto Insurance Coverage Summary This is your Declarations Page Your coverage has changed\n",
      "5 ====> Policy changes effective April 13, 2020 Changes: The driver information has changed. The changes shown above will not be effective prior to the time the changes were requested.\n"
     ]
    }
   ],
   "source": [
    "for i, j in result_cv.items():\n",
    "    print(i, \"====>\",re.sub(\"\\s+\", ' ',j))"
   ]
  },
  {
   "cell_type": "code",
   "execution_count": null,
   "metadata": {},
   "outputs": [],
   "source": []
  },
  {
   "cell_type": "code",
   "execution_count": null,
   "metadata": {},
   "outputs": [],
   "source": []
  },
  {
   "cell_type": "markdown",
   "metadata": {},
   "source": [
    "# Using Regex -----------------"
   ]
  },
  {
   "cell_type": "code",
   "execution_count": 33,
   "metadata": {},
   "outputs": [],
   "source": [
    "filename = \"page_1\"+\".jpg\"\n",
    "imgage = Image.open(filename)"
   ]
  },
  {
   "cell_type": "code",
   "execution_count": 36,
   "metadata": {},
   "outputs": [],
   "source": [
    "\n",
    "\n",
    "''' \n",
    "Part #2 - Recognizing text from the images using OCR \n",
    "'''\n",
    "# Variable to get count of total number of pages \n",
    "filelimit = image_counter-1\n",
    "\n",
    "# Creating a text file to write the output \n",
    "outfile = \"out_text.txt\"\n",
    "\n",
    "# Open the file in append mode so that \n",
    "# All contents of all images are added to the same file \n",
    "#f = open(outfile, \"a\") \n",
    "\n",
    "with open(outfile, 'a', encoding ='utf-8') as f:\n",
    "    \n",
    "    # Iterate from 1 to total number of pages \n",
    "    \n",
    "\n",
    "    for i in range(1, filelimit + 1): \n",
    "\n",
    "\n",
    "        filename = \"page_\"+str(i)+\".jpg\"\n",
    "        img = Image.open(filename)\n",
    "        \n",
    "\n",
    "        # find the width and height of the final image\n",
    "        #for img in images:\n",
    "        # Recognize the text as string in image using pytesserct \n",
    "        text = str(((pytesseract.image_to_string(img, config=\"-c preserve_interword_spaces=1x1 --psm 1 --oem 3\")))) \n",
    "        #text = text.replace('-\\n', '')\t \n",
    "        #print(text)\n",
    "        # Finally, write the processed text to the file. \n",
    "        f.write(text) \n",
    "        \n"
   ]
  },
  {
   "cell_type": "code",
   "execution_count": 45,
   "metadata": {},
   "outputs": [],
   "source": [
    "from PIL import Image\n",
    "from numpy import *\n",
    "\n",
    "im1 = Image.open('page_1.jpg')\n",
    "im2 = Image.open('page_2.jpg')\n",
    "\n",
    "im1arr = asarray(im1)\n",
    "im2arr = asarray(im2)\n",
    "\n",
    "im3arr = np.concatenate((im1arr, im2arr), axis =0)\n",
    "\n",
    "resultImage = Image.fromarray(im3arr)\n",
    "resultImage.save('a.jpg')\n",
    "\n",
    "    # Close the file after writing all the text. \n",
    "#f.close() \n"
   ]
  },
  {
   "cell_type": "code",
   "execution_count": null,
   "metadata": {},
   "outputs": [],
   "source": []
  },
  {
   "cell_type": "code",
   "execution_count": null,
   "metadata": {},
   "outputs": [],
   "source": []
  },
  {
   "cell_type": "code",
   "execution_count": null,
   "metadata": {},
   "outputs": [],
   "source": []
  },
  {
   "cell_type": "code",
   "execution_count": 7,
   "metadata": {},
   "outputs": [],
   "source": [
    "import re\n",
    "text = re.sub(\"\\s+\", ' ', text)"
   ]
  },
  {
   "cell_type": "code",
   "execution_count": 17,
   "metadata": {},
   "outputs": [
    {
     "data": {
      "text/plain": [
       "'AXIS BA K\\n‘ N\\n\\nEALIH. HAM \\n\\nJeint Hnlder :- \\n5t9:.RD.ti\\'L Ei‘~IEE.G\"t\\' EHPFERALS LTIII INDUSTRIAL GRUWTH\\n\\nCENTRE SITARA RAIFUR\\n\\n. Ctlstenaer Ne :3-¢14l2\"?E\\'r3\\n\\nCHHATTIEGARH Scheme :E.ﬂtS‘:\"\\' ACCESS SALVARY\\nAL\\'I\\'.3DUI\\'*iT\\n\\n493} ll Ctmeney :ﬂ\\'-JR\\n\\nStntettlent eftiecnunt Ne :9I.1{I1ﬂﬂIET335ﬂti5 fur the 11-erind [Frnnt : 26-112-21121} T : 21-{I3-IIIZHJ\\n\\nEr =\\n\\n_ 35’I3.-I3\\ntn-at-nee etneeeeteeaeeettneteleun n::ee.t1t+ r estate 139\\n“\\'“\\'“*5“‘ I“\\nettnngze A AEHERGY M t t 24443.00 31021.43} 13;:\\nIFTIEBDﬂﬂEET2E5’h\\'SEIhiI.S.dtLﬂ1E332ﬂﬂ3£SA.RD  \\nemanate\\n\\nATM-E.\\'ASH»\\nAEIPCN 1 23054\"? Dﬂdfﬂiﬂﬁlﬂf i1.-\\'5tiFUR\\n\\nATM-IZ.\\'AS.HAK]E#\\'DPCN1.223ﬂﬁF?9\\'49f1IE3?-WRAIFUR\\n\\nmm\\nli-ﬂ3 -Eﬂlﬂi PPEIJ 391314243623 EMI lﬂ-{J3-ii} Eri4E.iI|\\'ﬂ — 93\\'.I\"t9..4E .\\n\\n: rem;\\n\\nUniees the eenetittlent netiﬂes the bank imnledieteiy elf any dieerepaney fnund by  in this statement ef Aeeeunt, it will be taken that\\nlzefeite has found the eeenlntt entteet.\\n\\nThe eleeing eelenee es ehewntdienleyed inetudee net enlgr the et-edit eeleeee and I er everdreﬂ limit. but alee ﬁends whieh are under teleering. It\\nertetudee the eminent rnntked en lien, if any. I\\'-I-enee the eiesing beiartee -diegieyed mnjr net he the eﬁeetitre etetiletble belenee. For any ﬁlrtlter\\nelnriﬂeatiens, pleeee eenteet the Branch,\\n\\nWe wnttld like In  tltat, are e pniiey, Axis Bank deee net as}: yen In part widttdieeleeefteveiidete efynur iﬂnnneet peesn1\\'d,Jey\\'n id end\\ndebit enrd number  etnttilﬁ GR phnne eeil Furtitertwe wnttld like he reitetnte that Paris Ennis: shall net be liable for any losses mining\\nfr-nn1_ gen eneriegfdieele-sing nfyntn legit: id, peeewentl and debit eetrd number tn enyene- Ptenee ee-nperete by fnrwerding all such\\nstleptertntlefepem erneaie, If received by free, tn enstnrner..-5erwee@nJti5i:r:1elt.etJ111\\n\\nREGISTE1f\\'.E_I} CIFFIEE -» AJGS BANK. LTD_,T”E\\';I$HUi.t,Upp. Sennertlteettret Temple, Near Lew Garden. Elliebﬁdge, Ainnednhed.\\n?rEI}ﬂﬂﬁ.Thrs 15 e syetent generated nltqtui and requires new signature.\\n\\nLegends:\\n\\nICDNN - Tteneeeeen tnzz-ugh Internet Banking\\n\\n‘u\\'T!u-f[\\'I\\'—-I{I[}I1i - Vise Mane}; iTI.‘nt1ef-er‘ through Internet Banking\\n\\nAUTUSWEEF - Transfer tn Iinited ﬁxed depeeit\\n\\nREV SWEEP - Internet en Linked ﬁxed Dep-neit\\n\\nSWEEP  - Transfer ﬁrem Linked Fixed Depneitf Aeeeunt\\n\\n‘VTHIT -» Vise Mnney Transfer thruugh ATM\\n\\nCWDR - Cash Withdreerel ﬂlrengh ATM\\n\\nFUR. — POE pureheee\\n\\nTIFF EEG - 5t:.re]1a.rge en Usage of debit etttd at glnmpefraiiway ticket purchase er hetei tips\\nR.FITE.D[F\\'F\" & [}ifI\"e:ren.ee in rates en usage ef nerd inten-netinnnlljr\\n\\nISLE — Cheque CleeritIgTre.neeetin11\\n\\n \\'.*4‘%i\"J\\n\\n-\\'te1e:N.eL eeee Ann ‘tJ\\'EFtlF|ED\\neeeteete-eeeee:-t-teen BALE5 AND\\n\\nEEC - Credit ttanenetinn threugh EDC Meehine DiSTRiEiJTiCii‘*i PVT. LTDSETH - Euenmiees eleetrntztie ﬁred ttenefer ttlreugit an-:15 B-ant 535;; r_3r;}E:E -  ii’ -5-7 B E‘\\n\\nInt.pd — Interest paid tn etlet-enter E5§Qn.;.T:l.m-E __._\\n\\nlntﬂeﬂ - Intereetenileetedfrem the ettstemet E.,.--,-- -,-_.:ln.,E_.\\n.n:n.\\'; -.\\'-a- - -\\n‘...j|pllli!lIl\\n\\n  \\n\\nﬂligggpluulnlllm\\n\\nat -|—H—t- End nf Statement -H—H-'"
      ]
     },
     "execution_count": 17,
     "metadata": {},
     "output_type": "execute_result"
    }
   ],
   "source": [
    "text"
   ]
  },
  {
   "cell_type": "code",
   "execution_count": 15,
   "metadata": {},
   "outputs": [
    {
     "name": "stdout",
     "output_type": "stream",
     "text": [
      "A AXIS BANK\n",
      "\n",
      "SALIK RAM NISHAD\n",
      "\n",
      "Joint Holder :- -\n",
      "\n",
      "SARDA ENERGY MINERALS LTD INDUSTRIAL GROWTH\n",
      "\n",
      "CENTRE SITARA RAIPUR\n",
      "\n",
      ". Customer No :842-$12793\n",
      "\n",
      "CH1-iA'1\"l'1SGARH Scheme :EASY ACCESS SALARY\n",
      "ACCOUNT\n",
      "\n",
      "4931 1 1 Currency :£NR\n",
      "\n",
      "Statement of Account No :91101006783S065 for the period (From : 26-02-2020 To : 21-03-2020)\n",
      "\n",
      " 1”“  E\n",
      "— OPENING BALANCE 8573.48 1\n",
      "\n",
      "26-02-2020 AXIS/DPCN122306/5961/260220/RAIPUR 2000.00 6573.48\n",
      "*‘“\"°*‘S“' mm\n",
      "07-03-2020 A ENERGY M 24448.00 31021.48 139\n",
      "—- \"'*’°“°°°“\"”’7’S\"\"\"-S*L°‘“”’°°”s’*\"” “--\n",
      "07-03~2020 AXIS/DPC-N 122806/7 00410703201 RAIPUR $000.00 26021 .48\n",
      "”“*°*‘*‘° -:_m\n",
      "AXIS/DPCNl22806/7949/1 10320/RAIPUR 10000.00 16021.48\n",
      "*\"“'°““‘ -“M\n",
      " - PPR013904248623 EMI 10-03-2020 6142.00 _ 9879.48\n",
      "\n",
      "'raANsAc'r1oN'ro'rAL @-\n",
      "CnosrNcnALANcr: 9819.48\n",
      "\n",
      "Unless the constituent notiﬁes the bank immediately of any discrepancy found by himlher in this statement of Account, it will be taken that\n",
      "helshe has found the account correct.\n",
      "\n",
      "The closing balance as shown/displayed includes not only the credit balance and / or overdratt limit, but also funds which are under clatring. It\n",
      "\n",
      "excludes the amount marked as lien, if any. Hence the closing balance displayed may not be the efﬁective available balance. For any further\n",
      "clariﬁcations, please contact the Branch.\n",
      "\n",
      "We would like to reiterate that, as a policy, Axis Bank does not ask to part with/disclose/revalidate of your iConneet passord,login id and\n",
      "debit card number through emails OR phone call I-'urther,we would ' e to reiterate that Axis Bank shall not be liable for any losses arising\n",
      "from you sharing/disclosing of your login id, password and debit card number to anyone. Please co-operate by forwarding all such\n",
      "suspicious/spam emails, if received by you, to custorner.service@axisbank.oom\n",
      "\n",
      "REGISTERED OFFICE - AXIS BANK L'1'D,'1'RISHUl..,Opp. Satnartlteswar Temple, Near Law Garden, Ellisbridge, Ahmedabad .\n",
      "380006.This is a system generated output and requires no signature.\n",
      "\n",
      ",3 N8 i\n",
      "\n",
      "   \n",
      "    \n",
      "\n",
      "  \n",
      "   \n",
      "   \n",
      "    \n",
      "\n",
      "Legends :\n",
      "\n",
      "ICONN - Transaction trough Internet Banking\n",
      "\n",
      "VMT-ICON - Visa Money Transfer through Internet Banking\n",
      "AUTOSWEEP - Transfer to linked ﬁxed deposit\n",
      "\n",
      "REVSWEEP - IntorestonI.inltedﬁxedDeposit\n",
      "\n",
      "SWEEP TRF - Transfer from Linked Fixed Deposit/ Account\n",
      "VMT - Visa Money Transfer through ATM\n",
      "\n",
      "CWDR - Cash Withdrawal through ATM\n",
      "\n",
      "FUR - POS purchase\n",
      "\n",
      "TIP! SCG ~ Surcharge on usage of debit card at pumps/railway ticket purchase or hotel tips\n",
      "RATEDIFF - Dilferenee in rates on usage of card internationally\n",
      "CLG - Cheque Clearing Transaction\n",
      "\n",
      "EDC - Credit transaction through EDC Machine\n",
      "\n",
      "SETU - Seamless electronic fund transfer through AXIS Bank\n",
      "1nt.pd - interest paid to customer\n",
      "\n",
      "Int.Coll - Interest collected ﬁ'om the customer\n",
      "\n",
      "~,:=zsc:1NAL seen AND VERIFIED\n",
      "‘GSA NAME-ANDROMEDA SALES AND\n",
      "DISTRIBUTION PVT. LTD.\n",
      "\n",
      "csacoos --1-7962 ‘IV/°$\n",
      "signsziure  V\n",
      "EJ‘.'~;i-‘. :-iarne.. .\n",
      "\n",
      "gun-nulaosunlnn\n",
      "\n",
      "gooluIIIocOIIUI-\n",
      "\n",
      "-{ ++H- End of Statement +-H-+\n"
     ]
    }
   ],
   "source": [
    "for tx in text.split('\\n'):\n",
    "    print(tx)\n",
    "    "
   ]
  },
  {
   "cell_type": "code",
   "execution_count": 101,
   "metadata": {},
   "outputs": [],
   "source": [
    "result ={}"
   ]
  },
  {
   "cell_type": "markdown",
   "metadata": {},
   "source": [
    "## first"
   ]
  },
  {
   "cell_type": "code",
   "execution_count": 102,
   "metadata": {},
   "outputs": [],
   "source": [
    "import re"
   ]
  },
  {
   "cell_type": "code",
   "execution_count": 103,
   "metadata": {},
   "outputs": [
    {
     "data": {
      "text/plain": [
       "3089"
      ]
     },
     "execution_count": 103,
     "metadata": {},
     "output_type": "execute_result"
    }
   ],
   "source": [
    "len(text)"
   ]
  },
  {
   "cell_type": "code",
   "execution_count": 104,
   "metadata": {},
   "outputs": [
    {
     "data": {
      "text/plain": [
       "87"
      ]
     },
     "execution_count": 104,
     "metadata": {},
     "output_type": "execute_result"
    }
   ],
   "source": [
    "ind = text.find('Named insured')\n",
    "ind"
   ]
  },
  {
   "cell_type": "code",
   "execution_count": 105,
   "metadata": {},
   "outputs": [],
   "source": [
    "match = text[:94]"
   ]
  },
  {
   "cell_type": "code",
   "execution_count": 106,
   "metadata": {},
   "outputs": [
    {
     "name": "stdout",
     "output_type": "stream",
     "text": [
      "THOMSON SMITH LEACH 210 RUE FONTAINE P/3'06’/75.11/I/Em COMMEIPCMZ LAFAYETTE, LA 70508 Named i\n"
     ]
    }
   ],
   "source": [
    "print(re.sub('\\s+', ' ', match))"
   ]
  },
  {
   "cell_type": "code",
   "execution_count": 107,
   "metadata": {},
   "outputs": [],
   "source": [
    "result[1] = re.sub('\\s+', ' ', match)"
   ]
  },
  {
   "cell_type": "markdown",
   "metadata": {},
   "source": [
    "## Second"
   ]
  },
  {
   "cell_type": "code",
   "execution_count": 108,
   "metadata": {},
   "outputs": [],
   "source": [
    "r1 = '(Policy number:\\s+)(.*?)(\\s+progressiveagent.com)'\n"
   ]
  },
  {
   "cell_type": "code",
   "execution_count": 109,
   "metadata": {},
   "outputs": [],
   "source": [
    "match1 = re.search(r1, text)"
   ]
  },
  {
   "cell_type": "code",
   "execution_count": 110,
   "metadata": {},
   "outputs": [
    {
     "name": "stdout",
     "output_type": "stream",
     "text": [
      "Policy number: 01969879-0 Underwritten by: Progressive Paloverde lnsura nce Co April 14,2020 Policy Period: Apr 12, 2020 - Oct 12, 2020 Pae1 of 3\n"
     ]
    }
   ],
   "source": [
    "if(match1):\n",
    "    print(match1.group(1)+match1.group(2))"
   ]
  },
  {
   "cell_type": "code",
   "execution_count": 111,
   "metadata": {},
   "outputs": [],
   "source": [
    "result[2] = match1.group(1)+match1.group(2)"
   ]
  },
  {
   "cell_type": "markdown",
   "metadata": {},
   "source": [
    "## Third"
   ]
  },
  {
   "cell_type": "code",
   "execution_count": 112,
   "metadata": {},
   "outputs": [],
   "source": [
    "r2 = '(progressiveagent.com)(.*?)(\\d+)'"
   ]
  },
  {
   "cell_type": "code",
   "execution_count": 113,
   "metadata": {},
   "outputs": [],
   "source": [
    "match2 = re.search(r2, text)"
   ]
  },
  {
   "cell_type": "code",
   "execution_count": 114,
   "metadata": {},
   "outputs": [
    {
     "name": "stdout",
     "output_type": "stream",
     "text": [
      "progressiveagent.com Online Service Make payments, check billing activity, print policy documents, or check the status of a claim. \n"
     ]
    }
   ],
   "source": [
    "if(match2):\n",
    "    print(match2.group(1)+match2.group(2))"
   ]
  },
  {
   "cell_type": "code",
   "execution_count": 115,
   "metadata": {},
   "outputs": [],
   "source": [
    "result[3] = match2.group(1)+match2.group(2)"
   ]
  },
  {
   "cell_type": "markdown",
   "metadata": {},
   "source": [
    "## Fourth"
   ]
  },
  {
   "cell_type": "code",
   "execution_count": 116,
   "metadata": {},
   "outputs": [],
   "source": [
    "r3 ='(Commercial Auto)(.*?)(Your coverage began)'"
   ]
  },
  {
   "cell_type": "code",
   "execution_count": 117,
   "metadata": {},
   "outputs": [],
   "source": [
    "match3 = re.search(r3, text)"
   ]
  },
  {
   "cell_type": "code",
   "execution_count": 118,
   "metadata": {},
   "outputs": [
    {
     "name": "stdout",
     "output_type": "stream",
     "text": [
      "Commercial Auto Insurance Coverage Summary This is your Declarations Page Your coverage has changed \n"
     ]
    }
   ],
   "source": [
    "if(match3):\n",
    "    print(match3.group(1)+match3.group(2))"
   ]
  },
  {
   "cell_type": "code",
   "execution_count": 119,
   "metadata": {},
   "outputs": [],
   "source": [
    "result[4] = match3.group(1)+match3.group(2)"
   ]
  },
  {
   "cell_type": "markdown",
   "metadata": {},
   "source": [
    "## Fifth\n",
    "### because of improper ocr fifth part not able to extract"
   ]
  },
  {
   "cell_type": "code",
   "execution_count": 120,
   "metadata": {},
   "outputs": [
    {
     "name": "stdout",
     "output_type": "stream",
     "text": [
      "{1: \"THOMSON SMITH LEACH 210 RUE FONTAINE P/3'06’/75.11/I/Em COMMEIPCMZ \"\n",
      "    'LAFAYETTE, LA 70508 Named i',\n",
      " 2: 'Policy number: 01969879-0 Underwritten by: Progressive Paloverde lnsura '\n",
      "    'nce Co April 14,2020 Policy Period: Apr 12, 2020 - Oct 12, 2020 Pae1 of 3',\n",
      " 3: 'progressiveagent.com Online Service Make payments, check billing '\n",
      "    'activity, print policy documents, or check the status of a claim. ',\n",
      " 4: 'Commercial Auto Insurance Coverage Summary This is your Declarations Page '\n",
      "    'Your coverage has changed '}\n"
     ]
    }
   ],
   "source": [
    "from pprint import pprint\n",
    "pprint(result)"
   ]
  },
  {
   "cell_type": "code",
   "execution_count": null,
   "metadata": {},
   "outputs": [],
   "source": []
  },
  {
   "cell_type": "code",
   "execution_count": null,
   "metadata": {},
   "outputs": [],
   "source": []
  },
  {
   "cell_type": "code",
   "execution_count": null,
   "metadata": {},
   "outputs": [],
   "source": []
  }
 ],
 "metadata": {
  "kernelspec": {
   "display_name": "Python 3",
   "language": "python",
   "name": "python3"
  },
  "language_info": {
   "codemirror_mode": {
    "name": "ipython",
    "version": 3
   },
   "file_extension": ".py",
   "mimetype": "text/x-python",
   "name": "python",
   "nbconvert_exporter": "python",
   "pygments_lexer": "ipython3",
   "version": "3.7.4"
  }
 },
 "nbformat": 4,
 "nbformat_minor": 2
}
