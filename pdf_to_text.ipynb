{
 "cells": [
  {
   "cell_type": "markdown",
   "metadata": {},
   "source": [
    "# Pipeline for PDF to text extraction\n",
    "\n"
   ]
  },
  {
   "cell_type": "markdown",
   "metadata": {},
   "source": [
    "## Start.................\n",
    "### libraries Required\n",
    "- PIL(from PIL import Image )\n",
    "- pytesseract(import pytesseract )\n",
    "- tesserect should be instealled in your system and should be in system path \n",
    "- pdf2image(from pdf2image import convert_from_path )\n",
    "- opencv-python(import cv2)\n",
    "- import os\n",
    "- import sys\n",
    "\n",
    "## Pipe line steps\n",
    "\n",
    "\n",
    "1. Read the pdf file\n",
    "2. Convert it to image\n",
    "3. Use pytesserect to convert image to text and save it\n",
    "4. Now there are two ways to find whats in the box\n",
    "\n",
    "\n",
    "- Regex based\n",
    "- using opencv(cv2)\n",
    "\n",
    "\n",
    "#### - Opencv Based :\n",
    "1. convert pdf to image\n",
    "2. get the rectangle box dimentions(x1, y1, x2, y2)\n",
    "3. crop the image of rectangle dimention and location \n",
    "4. use pytesserect to convert from image to string\n",
    "\n",
    "\n",
    "#### - Regex Based :\n",
    "1. convert whole image to text\n",
    "2. It will use some assumptions and some keywords to find patterns\n"
   ]
  },
  {
   "cell_type": "markdown",
   "metadata": {},
   "source": [
    "## I have coded the schenario\n",
    "\n",
    "#### 1. OpenCV based\n",
    "#### 2. Regex Based"
   ]
  },
  {
   "cell_type": "code",
   "execution_count": 91,
   "metadata": {},
   "outputs": [],
   "source": [
    "# ---------------------------- Step1 : convert pdf to images and save it\n",
    "\n",
    "\n",
    "\n",
    "\n",
    "from PIL import Image \n",
    "import pytesseract \n",
    "import sys \n",
    "from pdf2image import convert_from_path \n",
    "import os \n",
    "import re\n",
    "from pprint import pprint\n",
    "# Path of the pdf \n",
    "PDF_file = \"C:\\\\Users\\\\mpspa\\\\Downloads\\\\sample.pdf\"\n",
    "\n",
    "''' \n",
    "Part #1 : Converting PDF to images \n",
    "'''\n",
    "\n",
    "# Store all the pages of the PDF in a variable \n",
    "pages = convert_from_path(PDF_file, 500) \n",
    "\n",
    "# Counter to store images of each page of PDF to image \n",
    "image_counter = 1\n",
    "\n",
    "# Iterate through all the pages stored above \n",
    "for page in pages: \n",
    "\n",
    "    filename = \"page_\"+str(image_counter)+\".jpg\"\n",
    "\n",
    "    # Save the image of the page in system \n",
    "    page.save(filename, 'JPEG') \n",
    "\n",
    "    # Increment the counter to update filename \n",
    "    image_counter = image_counter + 1\n"
   ]
  },
  {
   "cell_type": "code",
   "execution_count": 92,
   "metadata": {},
   "outputs": [],
   "source": [
    "#------------------------------- Define varibles to hold rectangle dimentions of text box and results\n",
    "\n",
    "\n",
    "\n",
    "location = {}\n",
    "result_cv = {}"
   ]
  },
  {
   "cell_type": "code",
   "execution_count": 121,
   "metadata": {},
   "outputs": [],
   "source": [
    "# ------------------------   I have used microsoft paint to get dimentions of text box rectangle\n",
    "\n",
    "\n",
    "\n",
    "location[1] = [367, 515, 1147, 771]\n",
    "location[2] = [2688, 809, 3770, 1276]\n",
    "location[3] = [2688, 1303, 3770, 1699]\n",
    "location[4] = [697, 1629,2548, 2280]\n",
    "location[5] = [368, 3150, 3816,3671]"
   ]
  },
  {
   "cell_type": "code",
   "execution_count": 94,
   "metadata": {},
   "outputs": [],
   "source": [
    "# ----------------------- Since i have only one page of image,  load it\n",
    "\n",
    "\n",
    "\n",
    "import cv2\n",
    "img = cv2.imread(\"page_1.jpg\") \n",
    "\n",
    "im2 = img.copy() "
   ]
  },
  {
   "cell_type": "code",
   "execution_count": 95,
   "metadata": {},
   "outputs": [
    {
     "name": "stdout",
     "output_type": "stream",
     "text": [
      "367 515 1147 771\n",
      "2688 809 3770 1276\n",
      "2688 1303 3770 1699\n",
      "697 1629 2548 2280\n",
      "368 3150 3816 3671\n"
     ]
    }
   ],
   "source": [
    "#----------------------- Iterate every rectangle and crop it and ocr it to get text and save result to result_cv\n",
    "\n",
    "\n",
    "\n",
    "for cnt in location: \n",
    "    x, y, w, h = location[cnt]\n",
    "      \n",
    "    # Drawing a rectangle on copied image \n",
    "    rect = cv2.rectangle(im2, (x, y), (w, h), (0, 255, 0), 2) \n",
    "    print(x,y,w,h)\n",
    "    # Cropping the text block for giving input to OCR \n",
    "    cropped = im2[y:h, x:w] \n",
    " \n",
    "    text = pytesseract.image_to_string(cropped) \n",
    "    result_cv[cnt] = text\n",
    "    #print(cnt,text)\n",
    "    # Appending the text into file \n"
   ]
  },
  {
   "cell_type": "code",
   "execution_count": 96,
   "metadata": {},
   "outputs": [
    {
     "name": "stdout",
     "output_type": "stream",
     "text": [
      "{1: 'THOMSON SMITH LEACH\\n210 RUE FONTAINE\\n\\n \\n\\nLAFAYETTE, LA 70508',\n",
      " 2: 'Policy number: 01969879-O\\n'\n",
      "    '\\n'\n",
      "    'Underwritten by:\\n'\n",
      "    '\\n'\n",
      "    'Progressive Paloverde Insurance Co\\n'\n",
      "    '\\n'\n",
      "    'April 14,2020\\n'\n",
      "    '\\n'\n",
      "    'Policy Period:Apr 12, 2020 - Oct 12, 2020\\n'\n",
      "    'Page 1 of 3',\n",
      " 3: 'progressiveagent.com\\n'\n",
      "    'Online Service\\n'\n",
      "    'Make payments, check billing activity, print\\n'\n",
      "    'policy documents, or check the status of a\\n'\n",
      "    'claim.',\n",
      " 4: 'Commercial Auto\\n'\n",
      "    'Insurance Coverage Summary\\n'\n",
      "    '\\n'\n",
      "    'This is your Declarations Page\\n'\n",
      "    'Your coverage has changed',\n",
      " 5: 'Policy changes effective April 13, 2020\\n'\n",
      "    '\\n'\n",
      "    'Changes: The driver information has changed.\\n'\n",
      "    '\\n'\n",
      "    ' \\n'\n",
      "    '\\n'\n",
      "    'The changes shown above will not be effective prior to the time the '\n",
      "    'changes were requested.'}\n"
     ]
    }
   ],
   "source": [
    "pprint(result_cv)"
   ]
  },
  {
   "cell_type": "markdown",
   "metadata": {},
   "source": [
    "### clean output using regex\n",
    "\n",
    "\n"
   ]
  },
  {
   "cell_type": "code",
   "execution_count": 97,
   "metadata": {},
   "outputs": [
    {
     "name": "stdout",
     "output_type": "stream",
     "text": [
      "1 ====> THOMSON SMITH LEACH 210 RUE FONTAINE LAFAYETTE, LA 70508\n",
      "2 ====> Policy number: 01969879-O Underwritten by: Progressive Paloverde Insurance Co April 14,2020 Policy Period:Apr 12, 2020 - Oct 12, 2020 Page 1 of 3\n",
      "3 ====> progressiveagent.com Online Service Make payments, check billing activity, print policy documents, or check the status of a claim.\n",
      "4 ====> Commercial Auto Insurance Coverage Summary This is your Declarations Page Your coverage has changed\n",
      "5 ====> Policy changes effective April 13, 2020 Changes: The driver information has changed. The changes shown above will not be effective prior to the time the changes were requested.\n"
     ]
    }
   ],
   "source": [
    "for i, j in result_cv.items():\n",
    "    print(i, \"====>\",re.sub(\"\\s+\", ' ',j))"
   ]
  },
  {
   "cell_type": "code",
   "execution_count": null,
   "metadata": {},
   "outputs": [],
   "source": []
  },
  {
   "cell_type": "code",
   "execution_count": null,
   "metadata": {},
   "outputs": [],
   "source": []
  },
  {
   "cell_type": "markdown",
   "metadata": {},
   "source": [
    "# Using Regex -----------------"
   ]
  },
  {
   "cell_type": "code",
   "execution_count": 98,
   "metadata": {},
   "outputs": [],
   "source": [
    "\n",
    "\n",
    "''' \n",
    "Part #2 - Recognizing text from the images using OCR \n",
    "'''\n",
    "# Variable to get count of total number of pages \n",
    "filelimit = image_counter-1\n",
    "\n",
    "# Creating a text file to write the output \n",
    "outfile = \"out_text.txt\"\n",
    "\n",
    "# Open the file in append mode so that \n",
    "# All contents of all images are added to the same file \n",
    "f = open(outfile, \"a\") \n",
    "\n",
    "# Iterate from 1 to total number of pages \n",
    "for i in range(1, filelimit + 1): \n",
    "\n",
    "  \n",
    "    filename = \"page_\"+str(i)+\".jpg\"\n",
    "\n",
    "    # Recognize the text as string in image using pytesserct \n",
    "    text = str(((pytesseract.image_to_string(Image.open(filename))))) \n",
    "    text = text.replace('-\\n', '')\t \n",
    "    #print(text)\n",
    "    # Finally, write the processed text to the file. \n",
    "    f.write(text) \n",
    "\n",
    "# Close the file after writing all the text. \n",
    "f.close() \n"
   ]
  },
  {
   "cell_type": "code",
   "execution_count": 99,
   "metadata": {},
   "outputs": [],
   "source": [
    "import re\n",
    "text = re.sub(\"\\s+\", ' ', text)"
   ]
  },
  {
   "cell_type": "code",
   "execution_count": 100,
   "metadata": {},
   "outputs": [
    {
     "data": {
      "text/plain": [
       "\"THOMSON SMITH LEACH 210 RUE FONTAINE P/3'06’/75.11/I/Em COMMEIPCMZ LAFAYETTE, LA 70508 Named insured SPEDALE'S FLORIST, INC. 110 PRODUCTION DRIVE, STE 101 LAFAYETTE, LA 70508 Policy number: 01969879-0 Underwritten by: Progressive Paloverde lnsura nce Co April 14,2020 Policy Period: Apr 12, 2020 - Oct 12, 2020 Pae1 of 3 progressiveagent.com Online Service Make payments, check billing activity, print policy documents, or check the status of a claim. 1-337-262-0511 THOMSON SMITH LEACH Contact your agent for personalized service. 1-800-444-4487 For customer service if your agent is unavailable or to report a claim. Commercial Auto Insurance Coverage Summary This is your Declarations Page Your coverage has changed Your coverage began the later of April 12, 2020 at 12:01 a.m. or at the time your application is executed on the first day of the policy period. This policy period ends on October 12, 2020 at 12:01 a.m. This coverage summary replaces your prior one. Your insurance policy and any policy endorsements contain a full explanation of your coverage. The policy limits shown for an auto may not be combined with the limits for the same coverage on another auto, unless the policy contract allows the stacking of limits. The policy contract is form 6912 (06/10). The contract is modified by forms 2852LA (06/11), 4757LA (01/05), 1890 (03/08), 1891 (03/08), 4852LA (05/08), 4881 LA (06/11) and Z228 (01/11). The named insured organization type is a corporation. Progressive Paloverde Insurance Co is a stock company (NYSE:PGR). Policy changes effective April 13, 2020 The driver information has changed. The changes shown above will not be effective prior to the time the changes were requested. Liability To Others $13,442 Bodily Injury and Property Damage Liability $1,500,000 combined single limit ................................................................................................................................ . .. Bodily Injury and Property Damage Liability $1,500,000 combined single limit .......................................................................................................... . Bodily Injury and Property Damage Liability $1,500,000 combined single limit ......................... . ............................................... . .1. .................... .......................................................................................... .. ............................................. . ...................................................................... .. .................................................................................................................................................. . See Auto Coverage Schedule Limit of liability less deductible ........................................................................................................................................................ See Auto Coverage Schedule Limit of liability less deductible . .............................................................................................................. . Form 6489 LA (04/17)\""
      ]
     },
     "execution_count": 100,
     "metadata": {},
     "output_type": "execute_result"
    }
   ],
   "source": [
    "text"
   ]
  },
  {
   "cell_type": "code",
   "execution_count": 101,
   "metadata": {},
   "outputs": [],
   "source": [
    "result ={}"
   ]
  },
  {
   "cell_type": "markdown",
   "metadata": {},
   "source": [
    "## first"
   ]
  },
  {
   "cell_type": "code",
   "execution_count": 102,
   "metadata": {},
   "outputs": [],
   "source": [
    "import re"
   ]
  },
  {
   "cell_type": "code",
   "execution_count": 103,
   "metadata": {},
   "outputs": [
    {
     "data": {
      "text/plain": [
       "3089"
      ]
     },
     "execution_count": 103,
     "metadata": {},
     "output_type": "execute_result"
    }
   ],
   "source": [
    "len(text)"
   ]
  },
  {
   "cell_type": "code",
   "execution_count": 104,
   "metadata": {},
   "outputs": [
    {
     "data": {
      "text/plain": [
       "87"
      ]
     },
     "execution_count": 104,
     "metadata": {},
     "output_type": "execute_result"
    }
   ],
   "source": [
    "ind = text.find('Named insured')\n",
    "ind"
   ]
  },
  {
   "cell_type": "code",
   "execution_count": 105,
   "metadata": {},
   "outputs": [],
   "source": [
    "match = text[:94]"
   ]
  },
  {
   "cell_type": "code",
   "execution_count": 106,
   "metadata": {},
   "outputs": [
    {
     "name": "stdout",
     "output_type": "stream",
     "text": [
      "THOMSON SMITH LEACH 210 RUE FONTAINE P/3'06’/75.11/I/Em COMMEIPCMZ LAFAYETTE, LA 70508 Named i\n"
     ]
    }
   ],
   "source": [
    "print(re.sub('\\s+', ' ', match))"
   ]
  },
  {
   "cell_type": "code",
   "execution_count": 107,
   "metadata": {},
   "outputs": [],
   "source": [
    "result[1] = re.sub('\\s+', ' ', match)"
   ]
  },
  {
   "cell_type": "markdown",
   "metadata": {},
   "source": [
    "## Second"
   ]
  },
  {
   "cell_type": "code",
   "execution_count": 108,
   "metadata": {},
   "outputs": [],
   "source": [
    "r1 = '(Policy number:\\s+)(.*?)(\\s+progressiveagent.com)'\n"
   ]
  },
  {
   "cell_type": "code",
   "execution_count": 109,
   "metadata": {},
   "outputs": [],
   "source": [
    "match1 = re.search(r1, text)"
   ]
  },
  {
   "cell_type": "code",
   "execution_count": 110,
   "metadata": {},
   "outputs": [
    {
     "name": "stdout",
     "output_type": "stream",
     "text": [
      "Policy number: 01969879-0 Underwritten by: Progressive Paloverde lnsura nce Co April 14,2020 Policy Period: Apr 12, 2020 - Oct 12, 2020 Pae1 of 3\n"
     ]
    }
   ],
   "source": [
    "if(match1):\n",
    "    print(match1.group(1)+match1.group(2))"
   ]
  },
  {
   "cell_type": "code",
   "execution_count": 111,
   "metadata": {},
   "outputs": [],
   "source": [
    "result[2] = match1.group(1)+match1.group(2)"
   ]
  },
  {
   "cell_type": "markdown",
   "metadata": {},
   "source": [
    "## Third"
   ]
  },
  {
   "cell_type": "code",
   "execution_count": 112,
   "metadata": {},
   "outputs": [],
   "source": [
    "r2 = '(progressiveagent.com)(.*?)(\\d+)'"
   ]
  },
  {
   "cell_type": "code",
   "execution_count": 113,
   "metadata": {},
   "outputs": [],
   "source": [
    "match2 = re.search(r2, text)"
   ]
  },
  {
   "cell_type": "code",
   "execution_count": 114,
   "metadata": {},
   "outputs": [
    {
     "name": "stdout",
     "output_type": "stream",
     "text": [
      "progressiveagent.com Online Service Make payments, check billing activity, print policy documents, or check the status of a claim. \n"
     ]
    }
   ],
   "source": [
    "if(match2):\n",
    "    print(match2.group(1)+match2.group(2))"
   ]
  },
  {
   "cell_type": "code",
   "execution_count": 115,
   "metadata": {},
   "outputs": [],
   "source": [
    "result[3] = match2.group(1)+match2.group(2)"
   ]
  },
  {
   "cell_type": "markdown",
   "metadata": {},
   "source": [
    "## Fourth"
   ]
  },
  {
   "cell_type": "code",
   "execution_count": 116,
   "metadata": {},
   "outputs": [],
   "source": [
    "r3 ='(Commercial Auto)(.*?)(Your coverage began)'"
   ]
  },
  {
   "cell_type": "code",
   "execution_count": 117,
   "metadata": {},
   "outputs": [],
   "source": [
    "match3 = re.search(r3, text)"
   ]
  },
  {
   "cell_type": "code",
   "execution_count": 118,
   "metadata": {},
   "outputs": [
    {
     "name": "stdout",
     "output_type": "stream",
     "text": [
      "Commercial Auto Insurance Coverage Summary This is your Declarations Page Your coverage has changed \n"
     ]
    }
   ],
   "source": [
    "if(match3):\n",
    "    print(match3.group(1)+match3.group(2))"
   ]
  },
  {
   "cell_type": "code",
   "execution_count": 119,
   "metadata": {},
   "outputs": [],
   "source": [
    "result[4] = match3.group(1)+match3.group(2)"
   ]
  },
  {
   "cell_type": "markdown",
   "metadata": {},
   "source": [
    "## Fifth\n",
    "### because of improper ocr fifth part not able to extract"
   ]
  },
  {
   "cell_type": "code",
   "execution_count": 120,
   "metadata": {},
   "outputs": [
    {
     "name": "stdout",
     "output_type": "stream",
     "text": [
      "{1: \"THOMSON SMITH LEACH 210 RUE FONTAINE P/3'06’/75.11/I/Em COMMEIPCMZ \"\n",
      "    'LAFAYETTE, LA 70508 Named i',\n",
      " 2: 'Policy number: 01969879-0 Underwritten by: Progressive Paloverde lnsura '\n",
      "    'nce Co April 14,2020 Policy Period: Apr 12, 2020 - Oct 12, 2020 Pae1 of 3',\n",
      " 3: 'progressiveagent.com Online Service Make payments, check billing '\n",
      "    'activity, print policy documents, or check the status of a claim. ',\n",
      " 4: 'Commercial Auto Insurance Coverage Summary This is your Declarations Page '\n",
      "    'Your coverage has changed '}\n"
     ]
    }
   ],
   "source": [
    "from pprint import pprint\n",
    "pprint(result)"
   ]
  },
  {
   "cell_type": "code",
   "execution_count": null,
   "metadata": {},
   "outputs": [],
   "source": []
  },
  {
   "cell_type": "code",
   "execution_count": null,
   "metadata": {},
   "outputs": [],
   "source": []
  },
  {
   "cell_type": "code",
   "execution_count": null,
   "metadata": {},
   "outputs": [],
   "source": []
  }
 ],
 "metadata": {
  "kernelspec": {
   "display_name": "Python 3",
   "language": "python",
   "name": "python3"
  },
  "language_info": {
   "codemirror_mode": {
    "name": "ipython",
    "version": 3
   },
   "file_extension": ".py",
   "mimetype": "text/x-python",
   "name": "python",
   "nbconvert_exporter": "python",
   "pygments_lexer": "ipython3",
   "version": "3.7.4"
  }
 },
 "nbformat": 4,
 "nbformat_minor": 2
}
