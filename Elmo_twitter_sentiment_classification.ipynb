{
 "cells": [
  {
   "cell_type": "markdown",
   "metadata": {},
   "source": [
    "## Implementation of ELMo\n"
   ]
  },
  {
   "cell_type": "markdown",
   "metadata": {},
   "source": [
    "## About the dataset \n",
    "\n",
    "2. Tweets from pages of different mobile companies \n",
    "\n",
    "Here’s a breakdown of the dataset we have:\n",
    "\n",
    "The train set contains 7,920 tweets\n",
    "The test set contains 1,953 tweets"
   ]
  },
  {
   "cell_type": "code",
   "execution_count": 1,
   "metadata": {},
   "outputs": [],
   "source": [
    "#-------------------------------- Imports ------------------------\n",
    "\n",
    "\n",
    "import pandas as pd\n",
    "import numpy as np\n",
    "import spacy\n",
    "from tqdm import tqdm\n",
    "import re\n",
    "import time\n",
    "import pickle\n",
    "pd.set_option('display.max_colwidth', 200)\n",
    "import seaborn as sns"
   ]
  },
  {
   "cell_type": "code",
   "execution_count": 2,
   "metadata": {},
   "outputs": [],
   "source": [
    "train = pd.read_csv(\"data_for_elmo/train_2kmZucJ.csv\")\n",
    "test = pd.read_csv(\"data_for_elmo/test_oJQbWVk.csv\")"
   ]
  },
  {
   "cell_type": "code",
   "execution_count": 3,
   "metadata": {},
   "outputs": [
    {
     "data": {
      "text/html": [
       "<div>\n",
       "<style scoped>\n",
       "    .dataframe tbody tr th:only-of-type {\n",
       "        vertical-align: middle;\n",
       "    }\n",
       "\n",
       "    .dataframe tbody tr th {\n",
       "        vertical-align: top;\n",
       "    }\n",
       "\n",
       "    .dataframe thead th {\n",
       "        text-align: right;\n",
       "    }\n",
       "</style>\n",
       "<table border=\"1\" class=\"dataframe\">\n",
       "  <thead>\n",
       "    <tr style=\"text-align: right;\">\n",
       "      <th></th>\n",
       "      <th>id</th>\n",
       "      <th>label</th>\n",
       "      <th>tweet</th>\n",
       "    </tr>\n",
       "  </thead>\n",
       "  <tbody>\n",
       "    <tr>\n",
       "      <td>0</td>\n",
       "      <td>1</td>\n",
       "      <td>0</td>\n",
       "      <td>#fingerprint #Pregnancy Test https://goo.gl/h1MfQV #android #apps #beautiful #cute #health #igers #iphoneonly #iphonesia #iphone</td>\n",
       "    </tr>\n",
       "    <tr>\n",
       "      <td>1</td>\n",
       "      <td>2</td>\n",
       "      <td>0</td>\n",
       "      <td>Finally a transparant silicon case ^^ Thanks to my uncle :) #yay #Sony #Xperia #S #sonyexperias… http://instagram.com/p/YGEt5JC6JM/</td>\n",
       "    </tr>\n",
       "    <tr>\n",
       "      <td>2</td>\n",
       "      <td>3</td>\n",
       "      <td>0</td>\n",
       "      <td>We love this! Would you go? #talk #makememories #unplug #relax #iphone #smartphone #wifi #connect... http://fb.me/6N3LsUpCu</td>\n",
       "    </tr>\n",
       "    <tr>\n",
       "      <td>3</td>\n",
       "      <td>4</td>\n",
       "      <td>0</td>\n",
       "      <td>I'm wired I know I'm George I was made that way ;) #iphone #cute #daventry #home http://instagr.am/p/Li_5_ujS4k/</td>\n",
       "    </tr>\n",
       "    <tr>\n",
       "      <td>4</td>\n",
       "      <td>5</td>\n",
       "      <td>1</td>\n",
       "      <td>What amazing service! Apple won't even talk to me about a question I have unless I pay them $19.95 for their stupid support!</td>\n",
       "    </tr>\n",
       "  </tbody>\n",
       "</table>\n",
       "</div>"
      ],
      "text/plain": [
       "   id  label  \\\n",
       "0   1      0   \n",
       "1   2      0   \n",
       "2   3      0   \n",
       "3   4      0   \n",
       "4   5      1   \n",
       "\n",
       "                                                                                                                                 tweet  \n",
       "0     #fingerprint #Pregnancy Test https://goo.gl/h1MfQV #android #apps #beautiful #cute #health #igers #iphoneonly #iphonesia #iphone  \n",
       "1  Finally a transparant silicon case ^^ Thanks to my uncle :) #yay #Sony #Xperia #S #sonyexperias… http://instagram.com/p/YGEt5JC6JM/  \n",
       "2          We love this! Would you go? #talk #makememories #unplug #relax #iphone #smartphone #wifi #connect... http://fb.me/6N3LsUpCu  \n",
       "3                     I'm wired I know I'm George I was made that way ;) #iphone #cute #daventry #home http://instagr.am/p/Li_5_ujS4k/  \n",
       "4         What amazing service! Apple won't even talk to me about a question I have unless I pay them $19.95 for their stupid support!  "
      ]
     },
     "execution_count": 3,
     "metadata": {},
     "output_type": "execute_result"
    }
   ],
   "source": [
    "train.head()"
   ]
  },
  {
   "cell_type": "code",
   "execution_count": 4,
   "metadata": {},
   "outputs": [
    {
     "data": {
      "text/plain": [
       "((7920, 3), (1953, 2))"
      ]
     },
     "execution_count": 4,
     "metadata": {},
     "output_type": "execute_result"
    }
   ],
   "source": [
    "train.shape, test.shape"
   ]
  },
  {
   "cell_type": "code",
   "execution_count": 5,
   "metadata": {},
   "outputs": [
    {
     "data": {
      "text/plain": [
       "<matplotlib.axes._subplots.AxesSubplot at 0x27027c37448>"
      ]
     },
     "execution_count": 5,
     "metadata": {},
     "output_type": "execute_result"
    },
    {
     "data": {
      "image/png": "[encoded data removed]",
      "text/plain": [
       "<Figure size 432x288 with 1 Axes>"
      ]
     },
     "metadata": {
      "needs_background": "light"
     },
     "output_type": "display_data"
    }
   ],
   "source": [
    "sns.countplot(train.label)"
   ]
  },
  {
   "cell_type": "markdown",
   "metadata": {},
   "source": [
    "Here, 1 represents a negative tweet while 0 represents a non-negative tweet.\n",
    "\n",
    "Let’s take a quick look at the first 5 rows in our train set:"
   ]
  },
  {
   "cell_type": "code",
   "execution_count": 6,
   "metadata": {},
   "outputs": [
    {
     "data": {
      "text/plain": [
       "0    0.744192\n",
       "1    0.255808\n",
       "Name: label, dtype: float64"
      ]
     },
     "execution_count": 6,
     "metadata": {},
     "output_type": "execute_result"
    }
   ],
   "source": [
    "train['label'].value_counts(normalize = True)\n"
   ]
  },
  {
   "cell_type": "markdown",
   "metadata": {},
   "source": [
    "There seem to be quite a few URL links in the tweets. They are not telling us much (if anything) about the sentiment of the tweet so let’s remove them."
   ]
  },
  {
   "cell_type": "code",
   "execution_count": 7,
   "metadata": {},
   "outputs": [],
   "source": [
    "# remove URL's from train and test\n",
    "train['clean_tweet'] = train['tweet'].apply(lambda x: re.sub(r'http\\S+', '', x))\n",
    "\n",
    "test['clean_tweet'] = test['tweet'].apply(lambda x: re.sub(r'http\\S+', '', x))"
   ]
  },
  {
   "cell_type": "markdown",
   "metadata": {},
   "source": [
    "We have used Regular Expressions (or RegEx) to remove the URLs.\n",
    "\n",
    "Note: You can learn more about Regex in this article.\n",
    "\n",
    "We’ll go ahead and do some routine text cleaning now."
   ]
  },
  {
   "cell_type": "code",
   "execution_count": 8,
   "metadata": {},
   "outputs": [],
   "source": [
    "punctuation = '!\"#$%&()*+-/:;<=>?@[\\\\]^_`{|}~'\n",
    "\n",
    "train['clean_tweet'] = train['clean_tweet'].apply(lambda x: ''.join(ch for ch in x if ch not in set(punctuation)))\n",
    "test['clean_tweet'] = test['clean_tweet'].apply(lambda x: ''.join(ch for ch in x if ch not in set(punctuation)))\n",
    "\n",
    "# convert text to lowercase\n",
    "train['clean_tweet'] = train['clean_tweet'].str.lower()\n",
    "test['clean_tweet'] = test['clean_tweet'].str.lower()\n",
    "\n",
    "# remove numbers\n",
    "train['clean_tweet'] = train['clean_tweet'].str.replace(\"[0-9]\", \" \")\n",
    "test['clean_tweet'] = test['clean_tweet'].str.replace(\"[0-9]\", \" \")\n",
    "\n",
    "# remove whitespaces\n",
    "train['clean_tweet'] = train['clean_tweet'].apply(lambda x:' '.join(x.split()))\n",
    "test['clean_tweet'] = test['clean_tweet'].apply(lambda x: ' '.join(x.split()))"
   ]
  },
  {
   "cell_type": "markdown",
   "metadata": {},
   "source": [
    "We will lemmatize (normalize) the text by leveraging the popular spaCy library."
   ]
  },
  {
   "cell_type": "code",
   "execution_count": 10,
   "metadata": {},
   "outputs": [],
   "source": [
    "# import spaCy's language model\n",
    "nlp = spacy.load('en', disable=['parser', 'ner'])\n",
    "\n",
    "# function to lemmatize text\n",
    "def lemmatization(texts):\n",
    "    output = []\n",
    "    for i in texts:\n",
    "        s = [token.lemma_ for token in nlp(i)]\n",
    "        output.append(' '.join(s))\n",
    "    return output"
   ]
  },
  {
   "cell_type": "code",
   "execution_count": 11,
   "metadata": {},
   "outputs": [],
   "source": [
    "train['clean_tweet'] = lemmatization(train['clean_tweet'])\n",
    "test['clean_tweet'] = lemmatization(test['clean_tweet'])"
   ]
  },
  {
   "cell_type": "code",
   "execution_count": 12,
   "metadata": {},
   "outputs": [
    {
     "data": {
      "text/html": [
       "<div>\n",
       "<style scoped>\n",
       "    .dataframe tbody tr th:only-of-type {\n",
       "        vertical-align: middle;\n",
       "    }\n",
       "\n",
       "    .dataframe tbody tr th {\n",
       "        vertical-align: top;\n",
       "    }\n",
       "\n",
       "    .dataframe thead th {\n",
       "        text-align: right;\n",
       "    }\n",
       "</style>\n",
       "<table border=\"1\" class=\"dataframe\">\n",
       "  <thead>\n",
       "    <tr style=\"text-align: right;\">\n",
       "      <th></th>\n",
       "      <th>id</th>\n",
       "      <th>label</th>\n",
       "      <th>tweet</th>\n",
       "      <th>clean_tweet</th>\n",
       "    </tr>\n",
       "  </thead>\n",
       "  <tbody>\n",
       "    <tr>\n",
       "      <td>7125</td>\n",
       "      <td>7126</td>\n",
       "      <td>0</td>\n",
       "      <td>#bday to ME! Bought myself a new #backpack for my #camera #gear #microphone #sony #mylife… http://instagram.com/p/Y0RW_8MzJz/</td>\n",
       "      <td>bday to -PRON- buy -PRON- a new backpack for -PRON- camera gear microphone sony mylife …</td>\n",
       "    </tr>\n",
       "    <tr>\n",
       "      <td>333</td>\n",
       "      <td>334</td>\n",
       "      <td>0</td>\n",
       "      <td>Photo: #iphonesia, #iphone, #instagood, #instagram, #photooftheday, #tweegram, , #iphoneonly, #igers,... http://tmblr.co/ZZ7XpxPqMwKt</td>\n",
       "      <td>photo iphonesia , iphone , instagood , instagram , photooftheday , tweegram , , iphoneonly , iger , ...</td>\n",
       "    </tr>\n",
       "    <tr>\n",
       "      <td>840</td>\n",
       "      <td>841</td>\n",
       "      <td>0</td>\n",
       "      <td>Ok let's go #sony #z1 #paixaodecristo #rec #hdv #equipedelta #eita #aovivo #pacatuba #gravação… http://instagram.com/p/m-R4wsFyqK/</td>\n",
       "      <td>ok let -PRON- go sony z paixaodecristo rec hdv equipedelta eita aovivo pacatuba gravação …</td>\n",
       "    </tr>\n",
       "    <tr>\n",
       "      <td>4476</td>\n",
       "      <td>4477</td>\n",
       "      <td>0</td>\n",
       "      <td>Fim de boat!!!!!! #iphone #girl #valescapopozuda #now #nice @ Fenix Party http://instagram.com/p/c3i8KHnR1B/</td>\n",
       "      <td>fim de boat iphone girl valescapopozuda now nice fenix party</td>\n",
       "    </tr>\n",
       "    <tr>\n",
       "      <td>6802</td>\n",
       "      <td>6803</td>\n",
       "      <td>0</td>\n",
       "      <td>I'm so #wasted I almost drop my #iPhone 4!!! That would've made me #cry!! I know it sounds #pathetic but I just my</td>\n",
       "      <td>-PRON- be so waste i almost drop -PRON- iphone that would have make -PRON- cry i know -PRON- sound pathetic but i just -PRON-</td>\n",
       "    </tr>\n",
       "    <tr>\n",
       "      <td>3085</td>\n",
       "      <td>3086</td>\n",
       "      <td>0</td>\n",
       "      <td>My sis @wtfxdaryl, my bro, and I #sibling #sis #bro #holidays #2011 #life #like #iphonesia #iphone http://instagr.am/p/cZZIC/</td>\n",
       "      <td>-PRON- sis wtfxdaryl , -PRON- bro , and i sible sis bro holiday life like iphonesia iphone</td>\n",
       "    </tr>\n",
       "    <tr>\n",
       "      <td>5889</td>\n",
       "      <td>5890</td>\n",
       "      <td>0</td>\n",
       "      <td>#California HD Wallpapers now in #Appstore #CaliforniaDreaming #CaliforniaGirl #iPhoneWallpaper https://itunes.apple.com/app/id1033024421 … #IPhone</td>\n",
       "      <td>california hd wallpaper now in appstore californiadreame californiagirl iphonewallpaper … iphone</td>\n",
       "    </tr>\n",
       "    <tr>\n",
       "      <td>6343</td>\n",
       "      <td>6344</td>\n",
       "      <td>0</td>\n",
       "      <td>Ready to rock. #film #sony #work #afterhours #army #armygirl #nurse #military #bts https://instagram.com/p/7E1eRGJHph/</td>\n",
       "      <td>ready to rock . film sony work afterhours army armygirl nurse military bts</td>\n",
       "    </tr>\n",
       "    <tr>\n",
       "      <td>2436</td>\n",
       "      <td>2437</td>\n",
       "      <td>1</td>\n",
       "      <td>I literally got the iPhone 6 YESTERDAY and it already sucks. #goiphone #apple</td>\n",
       "      <td>i literally get the iphone yesterday and -PRON- already suck . goiphone apple</td>\n",
       "    </tr>\n",
       "    <tr>\n",
       "      <td>2322</td>\n",
       "      <td>2323</td>\n",
       "      <td>0</td>\n",
       "      <td>Happy birthday to me. #sonystudios #sony #film #movie #hbd birthday #birthday … https://instagram.com/p/0dpfYZP4aU/</td>\n",
       "      <td>happy birthday to -PRON- . sonystudios sony film movie hbd birthday birthday …</td>\n",
       "    </tr>\n",
       "  </tbody>\n",
       "</table>\n",
       "</div>"
      ],
      "text/plain": [
       "        id  label  \\\n",
       "7125  7126      0   \n",
       "333    334      0   \n",
       "840    841      0   \n",
       "4476  4477      0   \n",
       "6802  6803      0   \n",
       "3085  3086      0   \n",
       "5889  5890      0   \n",
       "6343  6344      0   \n",
       "2436  2437      1   \n",
       "2322  2323      0   \n",
       "\n",
       "                                                                                                                                                    tweet  \\\n",
       "7125                        #bday to ME! Bought myself a new #backpack for my #camera #gear #microphone #sony #mylife… http://instagram.com/p/Y0RW_8MzJz/   \n",
       "333                 Photo: #iphonesia, #iphone, #instagood, #instagram, #photooftheday, #tweegram, , #iphoneonly, #igers,... http://tmblr.co/ZZ7XpxPqMwKt   \n",
       "840                    Ok let's go #sony #z1 #paixaodecristo #rec #hdv #equipedelta #eita #aovivo #pacatuba #gravação… http://instagram.com/p/m-R4wsFyqK/   \n",
       "4476                                         Fim de boat!!!!!! #iphone #girl #valescapopozuda #now #nice @ Fenix Party http://instagram.com/p/c3i8KHnR1B/   \n",
       "6802                                   I'm so #wasted I almost drop my #iPhone 4!!! That would've made me #cry!! I know it sounds #pathetic but I just my   \n",
       "3085                        My sis @wtfxdaryl, my bro, and I #sibling #sis #bro #holidays #2011 #life #like #iphonesia #iphone http://instagr.am/p/cZZIC/   \n",
       "5889  #California HD Wallpapers now in #Appstore #CaliforniaDreaming #CaliforniaGirl #iPhoneWallpaper https://itunes.apple.com/app/id1033024421 … #IPhone   \n",
       "6343                               Ready to rock. #film #sony #work #afterhours #army #armygirl #nurse #military #bts https://instagram.com/p/7E1eRGJHph/   \n",
       "2436                                                                        I literally got the iPhone 6 YESTERDAY and it already sucks. #goiphone #apple   \n",
       "2322                                  Happy birthday to me. #sonystudios #sony #film #movie #hbd birthday #birthday … https://instagram.com/p/0dpfYZP4aU/   \n",
       "\n",
       "                                                                                                                        clean_tweet  \n",
       "7125                                       bday to -PRON- buy -PRON- a new backpack for -PRON- camera gear microphone sony mylife …  \n",
       "333                         photo iphonesia , iphone , instagood , instagram , photooftheday , tweegram , , iphoneonly , iger , ...  \n",
       "840                                      ok let -PRON- go sony z paixaodecristo rec hdv equipedelta eita aovivo pacatuba gravação …  \n",
       "4476                                                                   fim de boat iphone girl valescapopozuda now nice fenix party  \n",
       "6802  -PRON- be so waste i almost drop -PRON- iphone that would have make -PRON- cry i know -PRON- sound pathetic but i just -PRON-  \n",
       "3085                                     -PRON- sis wtfxdaryl , -PRON- bro , and i sible sis bro holiday life like iphonesia iphone  \n",
       "5889                               california hd wallpaper now in appstore californiadreame californiagirl iphonewallpaper … iphone  \n",
       "6343                                                     ready to rock . film sony work afterhours army armygirl nurse military bts  \n",
       "2436                                                  i literally get the iphone yesterday and -PRON- already suck . goiphone apple  \n",
       "2322                                                 happy birthday to -PRON- . sonystudios sony film movie hbd birthday birthday …  "
      ]
     },
     "execution_count": 12,
     "metadata": {},
     "output_type": "execute_result"
    }
   ],
   "source": [
    "train.sample(10)"
   ]
  },
  {
   "cell_type": "markdown",
   "metadata": {},
   "source": [
    "## Disable v2 behaviour of tensorflow"
   ]
  },
  {
   "cell_type": "code",
   "execution_count": 13,
   "metadata": {},
   "outputs": [],
   "source": [
    "import tensorflow_hub as hub\n",
    "import tensorflow as tf\n"
   ]
  },
  {
   "cell_type": "markdown",
   "metadata": {},
   "source": [
    "## Disable Eager Execution"
   ]
  },
  {
   "cell_type": "code",
   "execution_count": 14,
   "metadata": {},
   "outputs": [],
   "source": [
    "tf.compat.v1.disable_eager_execution()\n",
    "elmo = hub.Module(\"C:\\\\Users\\\\mpspa\\\\Desktop\\\\purdue\\\\assignments\\\\NLP\\\\data_for_elmo\\\\elmo_2.tar\", trainable=True)\n"
   ]
  },
  {
   "cell_type": "markdown",
   "metadata": {},
   "source": [
    "#### I will first show you how we can get ELMo vectors for a sentence. All you have to do is pass a list of string(s) in the object elmo."
   ]
  },
  {
   "cell_type": "code",
   "execution_count": 15,
   "metadata": {},
   "outputs": [
    {
     "name": "stdout",
     "output_type": "stream",
     "text": [
      "INFO:tensorflow:Saver not created because there are no variables in the graph to restore\n"
     ]
    },
    {
     "data": {
      "text/plain": [
       "TensorShape([1, 8, 1024])"
      ]
     },
     "execution_count": 15,
     "metadata": {},
     "output_type": "execute_result"
    }
   ],
   "source": [
    "x = [\"Roasted ants are a popular snack in Columbia\"]\n",
    "\n",
    "# Extract ELMo features \n",
    "embeddings = elmo(x,  signature=\"default\", as_dict=True)[\"elmo\"]\n",
    "\n",
    "embeddings.shape"
   ]
  },
  {
   "cell_type": "markdown",
   "metadata": {},
   "source": [
    "- The output is a 3 dimensional tensor of shape (1, 8, 1024):\n",
    "\n",
    "- The first dimension of this tensor represents the number of training samples. This is 1 in our case\n",
    "- The second dimension represents the maximum length of the longest string in the input list of strings. Since we have only 1 string in our input list, the size of the 2nd dimension is equal to the length of the string – 8\n",
    "- The third dimension is equal to the length of the ELMo vector"
   ]
  },
  {
   "cell_type": "code",
   "execution_count": 16,
   "metadata": {},
   "outputs": [],
   "source": [
    "def elmo_vectors(x):\n",
    "  embeddings = elmo(x.tolist(), signature=\"default\", as_dict=True)[\"elmo\"]\n",
    "\n",
    "  with tf.Session() as sess:\n",
    "    sess.run(tf.global_variables_initializer())\n",
    "    sess.run(tf.tables_initializer())\n",
    "    # return average of ELMo features\n",
    "    return sess.run(tf.reduce_mean(embeddings,1))"
   ]
  },
  {
   "cell_type": "code",
   "execution_count": null,
   "metadata": {},
   "outputs": [],
   "source": [
    "list_train = [train[i:i+100] for i in range(0,train.shape[0],100)]\n",
    "list_test = [test[i:i+100] for i in range(0,test.shape[0],100)]"
   ]
  },
  {
   "cell_type": "code",
   "execution_count": null,
   "metadata": {},
   "outputs": [],
   "source": [
    "elmo_train = [elmo_vectors(x['clean_tweet']) for x in list_train]\n",
    "elmo_test = [elmo_vectors(x['clean_tweet']) for x in list_test]"
   ]
  },
  {
   "cell_type": "code",
   "execution_count": null,
   "metadata": {},
   "outputs": [],
   "source": [
    "elmo_train_new = np.concatenate(elmo_train, axis = 0)\n",
    "elmo_test_new = np.concatenate(elmo_test, axis = 0)"
   ]
  },
  {
   "cell_type": "markdown",
   "metadata": {},
   "source": [
    "### Dump the vectors"
   ]
  },
  {
   "cell_type": "code",
   "execution_count": null,
   "metadata": {},
   "outputs": [],
   "source": [
    "# save elmo_train_new\n",
    "pickle_out = open(\"data_for_elmo\\\\elmo_train_03032019.pickle\",\"wb\")\n",
    "pickle.dump(elmo_train_new, pickle_out)\n",
    "pickle_out.close()\n",
    "\n",
    "# save elmo_test_new\n",
    "pickle_out = open(\"data_for_elmo\\\\elmo_test_03032019.pickle\",\"wb\")\n",
    "pickle.dump(elmo_test_new, pickle_out)\n",
    "pickle_out.close()"
   ]
  },
  {
   "cell_type": "markdown",
   "metadata": {},
   "source": [
    "### Read the vectors"
   ]
  },
  {
   "cell_type": "code",
   "execution_count": 17,
   "metadata": {},
   "outputs": [],
   "source": [
    "# load elmo_train_new\n",
    "pickle_in = open(\"data_for_elmo\\\\elmo_train_03032019.pickle\", \"rb\")\n",
    "elmo_train_new = pickle.load(pickle_in)\n",
    "\n",
    "# load elmo_train_new\n",
    "pickle_in = open(\"data_for_elmo\\\\elmo_test_03032019.pickle\", \"rb\")\n",
    "elmo_test_new = pickle.load(pickle_in)"
   ]
  },
  {
   "cell_type": "markdown",
   "metadata": {},
   "source": [
    "## Train test split"
   ]
  },
  {
   "cell_type": "code",
   "execution_count": 18,
   "metadata": {},
   "outputs": [],
   "source": [
    "from sklearn.model_selection import train_test_split\n",
    "\n",
    "xtrain, xvalid, ytrain, yvalid = train_test_split(elmo_train_new, \n",
    "                                                  train['label'],  \n",
    "                                                  random_state=42, \n",
    "                                                  test_size=0.2)"
   ]
  },
  {
   "cell_type": "markdown",
   "metadata": {},
   "source": [
    "## Model building"
   ]
  },
  {
   "cell_type": "code",
   "execution_count": 19,
   "metadata": {},
   "outputs": [
    {
     "name": "stderr",
     "output_type": "stream",
     "text": [
      "C:\\python\\lib\\site-packages\\sklearn\\linear_model\\_logistic.py:764: ConvergenceWarning: lbfgs failed to converge (status=1):\n",
      "STOP: TOTAL NO. of ITERATIONS REACHED LIMIT.\n",
      "\n",
      "Increase the number of iterations (max_iter) or scale the data as shown in:\n",
      "    https://scikit-learn.org/stable/modules/preprocessing.html\n",
      "Please also refer to the documentation for alternative solver options:\n",
      "    https://scikit-learn.org/stable/modules/linear_model.html#logistic-regression\n",
      "  extra_warning_msg=_LOGISTIC_SOLVER_CONVERGENCE_MSG)\n"
     ]
    },
    {
     "data": {
      "text/plain": [
       "LogisticRegression()"
      ]
     },
     "execution_count": 19,
     "metadata": {},
     "output_type": "execute_result"
    }
   ],
   "source": [
    "from sklearn.linear_model import LogisticRegression\n",
    "\n",
    "\n",
    "lreg = LogisticRegression()\n",
    "lreg.fit(xtrain, ytrain)"
   ]
  },
  {
   "cell_type": "code",
   "execution_count": 20,
   "metadata": {},
   "outputs": [],
   "source": [
    "preds_valid = lreg.predict(xvalid)"
   ]
  },
  {
   "cell_type": "markdown",
   "metadata": {},
   "source": [
    "## Getting accuracies"
   ]
  },
  {
   "cell_type": "code",
   "execution_count": 24,
   "metadata": {},
   "outputs": [],
   "source": [
    "from sklearn.metrics import f1_score, accuracy_score, precision_score, recall_score, precision_recall_curve,confusion_matrix"
   ]
  },
  {
   "cell_type": "code",
   "execution_count": 26,
   "metadata": {},
   "outputs": [
    {
     "name": "stdout",
     "output_type": "stream",
     "text": [
      "Accuracy :  0.875\n",
      "precision :  0.7910447761194029\n",
      "recall :  0.7361111111111112\n",
      "f1 score :  0.7625899280575541\n",
      "confusion :  [[1068   84]\n",
      " [ 114  318]]\n"
     ]
    }
   ],
   "source": [
    "print(\"Accuracy : \", accuracy_score(yvalid, preds_valid))\n",
    "print(\"precision : \", precision_score(yvalid, preds_valid))\n",
    "print(\"recall : \", recall_score(yvalid, preds_valid))\n",
    "print(\"f1 score : \", f1_score(yvalid, preds_valid))\n",
    "print(\"confusion : \", confusion_matrix(yvalid, preds_valid))"
   ]
  },
  {
   "cell_type": "code",
   "execution_count": null,
   "metadata": {},
   "outputs": [],
   "source": []
  }
 ],
 "metadata": {
  "kernelspec": {
   "display_name": "Python 3",
   "language": "python",
   "name": "python3"
  },
  "language_info": {
   "codemirror_mode": {
    "name": "ipython",
    "version": 3
   },
   "file_extension": ".py",
   "mimetype": "text/x-python",
   "name": "python",
   "nbconvert_exporter": "python",
   "pygments_lexer": "ipython3",
   "version": "3.7.4"
  }
 },
 "nbformat": 4,
 "nbformat_minor": 2
}
