{
 "cells": [
  {
   "cell_type": "markdown",
   "metadata": {},
   "source": [
    "## Find min and maximum of an array list using python code only"
   ]
  },
  {
   "cell_type": "code",
   "execution_count": 8,
   "metadata": {},
   "outputs": [],
   "source": [
    "def min_max(arr_data):\n",
    "    \"\"\"\n",
    "    Since we dont sort the array we have to iterate all the elements to find smallest and largest values\n",
    "    \n",
    "    \"\"\"\n",
    "    largest = arr_data[0]\n",
    "    smallest = arr_data[0]\n",
    "    for i in arr_data:\n",
    "        if(i < smallest):\n",
    "            smallest =i \n",
    "        elif(i>largest):\n",
    "            largest = i\n",
    "    return smallest, largest\n",
    "    "
   ]
  },
  {
   "cell_type": "markdown",
   "metadata": {},
   "source": [
    "## Three test cases"
   ]
  },
  {
   "cell_type": "markdown",
   "metadata": {},
   "source": [
    "1. give a sorted list"
   ]
  },
  {
   "cell_type": "code",
   "execution_count": 17,
   "metadata": {},
   "outputs": [
    {
     "name": "stdout",
     "output_type": "stream",
     "text": [
      " min :  1 \n",
      " max :  5\n"
     ]
    }
   ],
   "source": [
    "arr = [1,2,3,4,5]\n",
    "min, max = min_max(arr)\n",
    "print(' min : ',min, '\\n','max : ', max)"
   ]
  },
  {
   "cell_type": "markdown",
   "metadata": {},
   "source": [
    "2. Give reverse sorted array"
   ]
  },
  {
   "cell_type": "code",
   "execution_count": 21,
   "metadata": {},
   "outputs": [
    {
     "name": "stdout",
     "output_type": "stream",
     "text": [
      " min :  -4 \n",
      " max :  5\n"
     ]
    }
   ],
   "source": [
    "arr = [5,4,3,2,1,-1, -4]\n",
    "min, max = min_max(arr)\n",
    "print(' min : ',min, '\\n','max : ', max)"
   ]
  },
  {
   "cell_type": "markdown",
   "metadata": {},
   "source": [
    "3. Give an array of repeating min and max numbers"
   ]
  },
  {
   "cell_type": "code",
   "execution_count": 22,
   "metadata": {},
   "outputs": [
    {
     "name": "stdout",
     "output_type": "stream",
     "text": [
      " min :  -2 \n",
      " max :  6\n"
     ]
    }
   ],
   "source": [
    "arr = [5,5,4,3,6,6,2,1,1,-1,-2,-2]\n",
    "min, max = min_max(arr)\n",
    "print(' min : ',min, '\\n','max : ', max)"
   ]
  }
 ],
 "metadata": {
  "kernelspec": {
   "display_name": "Python 3",
   "language": "python",
   "name": "python3"
  },
  "language_info": {
   "codemirror_mode": {
    "name": "ipython",
    "version": 3
   },
   "file_extension": ".py",
   "mimetype": "text/x-python",
   "name": "python",
   "nbconvert_exporter": "python",
   "pygments_lexer": "ipython3",
   "version": "3.7.4"
  }
 },
 "nbformat": 4,
 "nbformat_minor": 2
}
