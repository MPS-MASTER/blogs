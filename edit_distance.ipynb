{
 "cells": [
  {
   "cell_type": "markdown",
   "metadata": {},
   "source": [
    "## edit distance or Levenshtein distance"
   ]
  },
  {
   "cell_type": "markdown",
   "metadata": {},
   "source": [
    "## ------------------------- Start "
   ]
  },
  {
   "cell_type": "markdown",
   "metadata": {},
   "source": [
    "### What is edit distance?\n",
    "- It is the minimum edits required to convert one string to other string\n"
   ]
  },
  {
   "cell_type": "markdown",
   "metadata": {},
   "source": [
    "## what is edits?\n",
    "- insertion, deletion, replace\n"
   ]
  },
  {
   "cell_type": "markdown",
   "metadata": {},
   "source": [
    "### What have to do ?\n",
    "- minimum of three combined steps to convert one string to other"
   ]
  },
  {
   "cell_type": "markdown",
   "metadata": {},
   "source": [
    "### Pseudo logic\n",
    "- we will start from end of both string or we can start from start of both string\n",
    "- lets say m and n is the length of string1 and strin2\n",
    "- if last character of both strings are same then no edits required\n",
    "- we will look for string1 and string2 with last character chopped from both\n",
    "- if last character of both strings is not same then one edit is required\n",
    "- if they are not same we will require either of three operations ( delete, replace, insert)\n",
    "- so we will add 1 edit to previous lowest edits of three position\n",
    "- the last value will be edit distance\n",
    "\n"
   ]
  },
  {
   "cell_type": "code",
   "execution_count": 127,
   "metadata": {},
   "outputs": [],
   "source": [
    "# import numpy as np\n",
    "import pprint\n",
    "def edit_distance(str1, str2, m, n):\n",
    "    \"\"\"\n",
    "    we have to convert string1 to string2\n",
    "    \n",
    "    \"\"\"\n",
    "    \n",
    "    def return_array(l1,l2):\n",
    "        \"\"\"\n",
    "        it returns the 2d array of (l1,l2) dimentions with 0 values filled\n",
    "        \n",
    "        \"\"\"\n",
    "        e_d = []\n",
    "        for i in range(l1):\n",
    "            temp =[]\n",
    "            for j in range(l2):\n",
    "                temp.append(0)\n",
    "            e_d.append(temp)\n",
    "        return e_d\n",
    "    \n",
    "    ## --------------------pass dimentions+1 as we also consider empty string at first row and also for first column\n",
    "    \n",
    "    edit_distance_table = return_array(m+1, n+1)\n",
    "    \n",
    "    # edit_distance_table = np.zeros((m+1, n+1))\n",
    "    # print('e',type(edit_distance_table))\n",
    "    \n",
    "    ## ---------------------putting first row of edits to perform from empty string to full string\n",
    "    for i in range(m+1):\n",
    "        #print(i, 0)\n",
    "        edit_distance_table[i][0] = i\n",
    "      \n",
    "    ## ---------------------putting first column of edits to perform from empty string to full string\n",
    "    for j in range(n+1):\n",
    "        #print(j,0)\n",
    "        edit_distance_table[0][j] = j\n",
    "        \n",
    "    pprint.pprint(edit_distance_table)\n",
    "        \n",
    "    for i in range(1, m+1):\n",
    "        for j in range(1, n+1):\n",
    "            #print(str1[i-1], str2[j-1])\n",
    "            #print()\n",
    "            if(str1[i-1] == str2[j-1]):\n",
    "                # minimum of the three places\n",
    "                edit_distance_table[i][j] = min(edit_distance_table[i][j-1], edit_distance_table[i-1][j-1], edit_distance_table[i-1][j])+0\n",
    "            else:\n",
    "                # minimum of the three places plus one edit\n",
    "                edit_distance_table[i][j] = min(edit_distance_table[i][j-1], edit_distance_table[i-1][j-1], edit_distance_table[i-1][j])+1\n",
    "    \n",
    "    \n",
    "    print(\"\\n\\n\\n output with last position as min edit ditance :\")\n",
    "    pprint.pprint( edit_distance_table)\n",
    "\n",
    "    return int(edit_distance_table[-1][-1])\n",
    "            \n",
    "\n"
   ]
  },
  {
   "cell_type": "code",
   "execution_count": 133,
   "metadata": {},
   "outputs": [
    {
     "name": "stdout",
     "output_type": "stream",
     "text": [
      "[[0, 1, 2, 3, 4, 5, 6, 7],\n",
      " [1, 0, 0, 0, 0, 0, 0, 0],\n",
      " [2, 0, 0, 0, 0, 0, 0, 0],\n",
      " [3, 0, 0, 0, 0, 0, 0, 0],\n",
      " [4, 0, 0, 0, 0, 0, 0, 0],\n",
      " [5, 0, 0, 0, 0, 0, 0, 0]]\n",
      "\n",
      "\n",
      "\n",
      " output with last position as min edit ditance :\n",
      "[[0, 1, 2, 3, 4, 5, 6, 7],\n",
      " [1, 0, 1, 2, 3, 4, 5, 6],\n",
      " [2, 1, 0, 1, 2, 3, 4, 5],\n",
      " [3, 2, 1, 1, 2, 3, 4, 5],\n",
      " [4, 3, 2, 2, 1, 2, 3, 4],\n",
      " [5, 4, 3, 2, 2, 1, 2, 3]]\n"
     ]
    },
    {
     "data": {
      "text/plain": [
       "3"
      ]
     },
     "execution_count": 133,
     "metadata": {},
     "output_type": "execute_result"
    }
   ],
   "source": [
    "\n",
    "\n",
    "string1 = 'abcde'\n",
    "string2 = 'abedefg'\n",
    "edit_distance_table = edit_distance(string1,string2, len(string1), len(string2))\n",
    "edit_distance_table"
   ]
  },
  {
   "cell_type": "code",
   "execution_count": null,
   "metadata": {},
   "outputs": [],
   "source": []
  },
  {
   "cell_type": "code",
   "execution_count": null,
   "metadata": {},
   "outputs": [],
   "source": []
  },
  {
   "cell_type": "code",
   "execution_count": null,
   "metadata": {},
   "outputs": [],
   "source": []
  }
 ],
 "metadata": {
  "kernelspec": {
   "display_name": "Python 3",
   "language": "python",
   "name": "python3"
  },
  "language_info": {
   "codemirror_mode": {
    "name": "ipython",
    "version": 3
   },
   "file_extension": ".py",
   "mimetype": "text/x-python",
   "name": "python",
   "nbconvert_exporter": "python",
   "pygments_lexer": "ipython3",
   "version": "3.7.4"
  }
 },
 "nbformat": 4,
 "nbformat_minor": 2
}
