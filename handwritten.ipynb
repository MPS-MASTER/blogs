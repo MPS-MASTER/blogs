{
 "cells": [
  {
   "cell_type": "code",
   "execution_count": 1,
   "metadata": {},
   "outputs": [],
   "source": [
    "import pandas as pd\n",
    "import numpy as np\n",
    "import matplotlib.pyplot as plt"
   ]
  },
  {
   "cell_type": "code",
   "execution_count": 2,
   "metadata": {},
   "outputs": [
    {
     "name": "stderr",
     "output_type": "stream",
     "text": [
      "Using TensorFlow backend.\n"
     ]
    }
   ],
   "source": [
    "import keras\n",
    "from tensorflow.keras.models import Sequential\n",
    "from tensorflow.keras.layers import Conv2D, MaxPooling2D, Dropout, Flatten, Dense, Activation, BatchNormalization,LSTM, Reshape, SimpleRNN\n",
    "from keras.layers.recurrent import GRU\n",
    "import tensorflow"
   ]
  },
  {
   "cell_type": "code",
   "execution_count": 3,
   "metadata": {},
   "outputs": [],
   "source": [
    "import os\n",
    "import string\n",
    "import cv2"
   ]
  },
  {
   "cell_type": "code",
   "execution_count": 4,
   "metadata": {},
   "outputs": [],
   "source": [
    "\n",
    "characters = \"0123456789-/\""
   ]
  },
  {
   "cell_type": "code",
   "execution_count": 5,
   "metadata": {},
   "outputs": [],
   "source": [
    "all_images = ['WhatsApp Image 2020-09-15 at 01.43.31.jpeg']"
   ]
  },
  {
   "cell_type": "code",
   "execution_count": null,
   "metadata": {},
   "outputs": [],
   "source": []
  },
  {
   "cell_type": "code",
   "execution_count": 6,
   "metadata": {},
   "outputs": [],
   "source": [
    "def preprocess_data():\n",
    "    \n",
    "    inp_x = np.zeros((len(all_images), 480,240,1))\n",
    "    inp_y = np.zeros((len(all_images), 10,len(characters)))\n",
    "    for idx, image in enumerate(all_images):\n",
    "        # ----------------prepare input container\n",
    "        \n",
    "        \n",
    "        img = cv2.imread(image, cv2.IMREAD_GRAYSCALE)\n",
    "        print(img.shape)\n",
    "        #print(np.max(img))\n",
    "        #plt.imshow(img)\n",
    "        \n",
    "        # ---------------------Scale images --------------\n",
    "        \n",
    "        img = img/255.0\n",
    "        \n",
    "        img = cv2.resize(img, (240,480))\n",
    "        img = np.reshape(img, (480,240,1))\n",
    "        \n",
    "        print(img.shape)\n",
    "        \n",
    "        image_txt = '30-10-1999'\n",
    "        \n",
    "        \n",
    "        \n",
    "        inp_x[idx] = img\n",
    "\n",
    "         # ------------------Define targets and code them using OneHotEncoding\n",
    "        target_oht = np.zeros((10,len(characters)))\n",
    "        for k, char in enumerate(image_txt):\n",
    "            target_oht[k, characters.find(char)] = 1\n",
    "        inp_y[idx] = target_oht\n",
    "    return inp_x, inp_y"
   ]
  },
  {
   "cell_type": "code",
   "execution_count": 7,
   "metadata": {},
   "outputs": [
    {
     "name": "stdout",
     "output_type": "stream",
     "text": [
      "(1040, 492)\n",
      "(480, 240, 1)\n"
     ]
    }
   ],
   "source": [
    "X, Y = preprocess_data()"
   ]
  },
  {
   "cell_type": "code",
   "execution_count": 8,
   "metadata": {},
   "outputs": [
    {
     "data": {
      "text/plain": [
       "(1, 480, 240, 1)"
      ]
     },
     "execution_count": 8,
     "metadata": {},
     "output_type": "execute_result"
    }
   ],
   "source": [
    "\n",
    "X.shape"
   ]
  },
  {
   "cell_type": "code",
   "execution_count": 9,
   "metadata": {},
   "outputs": [],
   "source": [
    "train_x = X[:]\n",
    "train_y = Y[:]\n",
    "test_x = X[:]\n",
    "test_y = Y[:]"
   ]
  },
  {
   "cell_type": "code",
   "execution_count": 14,
   "metadata": {},
   "outputs": [],
   "source": [
    "model = Sequential()\n",
    "def prepare_model():\n",
    "    model.add(Conv2D(64, (3,3), input_shape = (480,240,1) ,padding = 'same', activation = 'tanh'))\n",
    "    #model.add(Dropout(.5))\n",
    "    #model.add(BatchNormalization())\n",
    "    model.add(MaxPooling2D(pool_size = (2,2),padding ='same'))\n",
    "    model.add(Conv2D(64, (3,3), activation = 'tanh', padding = 'same',))\n",
    "    #model.add(Dropout(.3))\n",
    "    #model.add(BatchNormalization())\n",
    "    model.add(MaxPooling2D(pool_size =(2,2),padding ='same'))\n",
    "    model.add(Conv2D(64, (3,3), activation = 'tanh', padding = 'same'))\n",
    "    #model.add(Dropout(.1))\n",
    "    #model.add(BatchNormalization())\n",
    "    model.add(MaxPooling2D(pool_size = (3,2),padding ='same'))\n",
    "    model.add(Conv2D(32, (3,3), activation = 'tanh', padding = 'same'))\n",
    "  \n",
    "    #model.add(BatchNormalization())\n",
    "    model.add(MaxPooling2D(pool_size = (2,2),padding ='same'))\n",
    "    model.add(Conv2D(32, (3,3), activation = 'tanh', padding = 'same'))\n",
    "    model.add(MaxPooling2D(pool_size = (2,1),padding ='same'))\n",
    "    print(model.output_shape)\n",
    "    model.add(Reshape((model.output_shape[1], model.output_shape[2]*model.output_shape[3])))\n",
    "    print(model.output_shape)\n",
    "    #model.add(LSTM(50, batch_input_shape=(2,5,36),stateful = True, return_sequences = True))\n",
    "    model.add(SimpleRNN(50, return_sequences = True,activation = 'relu'))\n",
    "    model.add(SimpleRNN(50, return_sequences = True,activation = 'relu'))\n",
    "    model.add(SimpleRNN(50, return_sequences = True,activation = 'relu'))\n",
    "    \n",
    "\n",
    "\n",
    "    model.add(Dense(12, activation = \"softmax\"))\n",
    "    model.compile(loss=tensorflow.keras.losses.categorical_crossentropy,\n",
    "              optimizer=tensorflow.keras.optimizers.Adam(),\n",
    "              metrics=['accuracy'])\n",
    "   \n",
    "    return model"
   ]
  },
  {
   "cell_type": "code",
   "execution_count": 15,
   "metadata": {},
   "outputs": [
    {
     "name": "stdout",
     "output_type": "stream",
     "text": [
      "(None, 10, 15, 32)\n",
      "(None, 10, 480)\n"
     ]
    }
   ],
   "source": [
    "\n",
    "model =prepare_model()"
   ]
  },
  {
   "cell_type": "code",
   "execution_count": 16,
   "metadata": {},
   "outputs": [
    {
     "name": "stdout",
     "output_type": "stream",
     "text": [
      "Model: \"sequential_1\"\n",
      "_________________________________________________________________\n",
      "Layer (type)                 Output Shape              Param #   \n",
      "=================================================================\n",
      "conv2d_5 (Conv2D)            (None, 480, 240, 64)      640       \n",
      "_________________________________________________________________\n",
      "max_pooling2d_5 (MaxPooling2 (None, 240, 120, 64)      0         \n",
      "_________________________________________________________________\n",
      "conv2d_6 (Conv2D)            (None, 240, 120, 64)      36928     \n",
      "_________________________________________________________________\n",
      "max_pooling2d_6 (MaxPooling2 (None, 120, 60, 64)       0         \n",
      "_________________________________________________________________\n",
      "conv2d_7 (Conv2D)            (None, 120, 60, 64)       36928     \n",
      "_________________________________________________________________\n",
      "max_pooling2d_7 (MaxPooling2 (None, 40, 30, 64)        0         \n",
      "_________________________________________________________________\n",
      "conv2d_8 (Conv2D)            (None, 40, 30, 32)        18464     \n",
      "_________________________________________________________________\n",
      "max_pooling2d_8 (MaxPooling2 (None, 20, 15, 32)        0         \n",
      "_________________________________________________________________\n",
      "conv2d_9 (Conv2D)            (None, 20, 15, 32)        9248      \n",
      "_________________________________________________________________\n",
      "max_pooling2d_9 (MaxPooling2 (None, 10, 15, 32)        0         \n",
      "_________________________________________________________________\n",
      "reshape_1 (Reshape)          (None, 10, 480)           0         \n",
      "_________________________________________________________________\n",
      "simple_rnn_3 (SimpleRNN)     (None, 10, 50)            26550     \n",
      "_________________________________________________________________\n",
      "simple_rnn_4 (SimpleRNN)     (None, 10, 50)            5050      \n",
      "_________________________________________________________________\n",
      "simple_rnn_5 (SimpleRNN)     (None, 10, 50)            5050      \n",
      "_________________________________________________________________\n",
      "dense_1 (Dense)              (None, 10, 12)            612       \n",
      "=================================================================\n",
      "Total params: 139,470\n",
      "Trainable params: 139,470\n",
      "Non-trainable params: 0\n",
      "_________________________________________________________________\n"
     ]
    }
   ],
   "source": [
    "model.summary()"
   ]
  },
  {
   "cell_type": "code",
   "execution_count": 17,
   "metadata": {},
   "outputs": [
    {
     "name": "stdout",
     "output_type": "stream",
     "text": [
      "Epoch 1/50\n",
      "1/1 [==============================] - 0s 494ms/step - loss: 2.5136 - accuracy: 0.0000e+00 - val_loss: 2.4631 - val_accuracy: 0.1000\n",
      "Epoch 2/50\n",
      "1/1 [==============================] - 0s 32ms/step - loss: 2.4631 - accuracy: 0.1000 - val_loss: 2.5679 - val_accuracy: 0.1000\n",
      "Epoch 3/50\n",
      "1/1 [==============================] - 0s 33ms/step - loss: 2.5679 - accuracy: 0.1000 - val_loss: 2.2443 - val_accuracy: 0.1000\n",
      "Epoch 4/50\n",
      "1/1 [==============================] - 0s 33ms/step - loss: 2.2443 - accuracy: 0.1000 - val_loss: 2.1770 - val_accuracy: 0.2000\n",
      "Epoch 5/50\n",
      "1/1 [==============================] - 0s 33ms/step - loss: 2.1770 - accuracy: 0.2000 - val_loss: 2.0798 - val_accuracy: 0.3000\n",
      "Epoch 6/50\n",
      "1/1 [==============================] - 0s 32ms/step - loss: 2.0798 - accuracy: 0.3000 - val_loss: 1.9748 - val_accuracy: 0.3000\n",
      "Epoch 7/50\n",
      "1/1 [==============================] - 0s 35ms/step - loss: 1.9748 - accuracy: 0.3000 - val_loss: 1.8733 - val_accuracy: 0.5000\n",
      "Epoch 8/50\n",
      "1/1 [==============================] - 0s 31ms/step - loss: 1.8733 - accuracy: 0.5000 - val_loss: 1.7474 - val_accuracy: 0.7000\n",
      "Epoch 9/50\n",
      "1/1 [==============================] - 0s 33ms/step - loss: 1.7474 - accuracy: 0.7000 - val_loss: 1.6140 - val_accuracy: 0.7000\n",
      "Epoch 10/50\n",
      "1/1 [==============================] - 0s 35ms/step - loss: 1.6140 - accuracy: 0.7000 - val_loss: 1.4962 - val_accuracy: 0.7000\n",
      "Epoch 11/50\n",
      "1/1 [==============================] - 0s 32ms/step - loss: 1.4962 - accuracy: 0.7000 - val_loss: 1.3813 - val_accuracy: 0.7000\n",
      "Epoch 12/50\n",
      "1/1 [==============================] - 0s 31ms/step - loss: 1.3813 - accuracy: 0.7000 - val_loss: 1.2301 - val_accuracy: 0.7000\n",
      "Epoch 13/50\n",
      "1/1 [==============================] - 0s 35ms/step - loss: 1.2301 - accuracy: 0.7000 - val_loss: 1.0642 - val_accuracy: 0.7000\n",
      "Epoch 14/50\n",
      "1/1 [==============================] - 0s 35ms/step - loss: 1.0642 - accuracy: 0.7000 - val_loss: 0.9166 - val_accuracy: 0.7000\n",
      "Epoch 15/50\n",
      "1/1 [==============================] - 0s 39ms/step - loss: 0.9166 - accuracy: 0.7000 - val_loss: 0.7379 - val_accuracy: 0.8000\n",
      "Epoch 16/50\n",
      "1/1 [==============================] - 0s 34ms/step - loss: 0.7379 - accuracy: 0.8000 - val_loss: 0.5697 - val_accuracy: 0.9000\n",
      "Epoch 17/50\n",
      "1/1 [==============================] - 0s 35ms/step - loss: 0.5697 - accuracy: 0.9000 - val_loss: 0.4288 - val_accuracy: 1.0000\n",
      "Epoch 18/50\n",
      "1/1 [==============================] - 0s 35ms/step - loss: 0.4288 - accuracy: 1.0000 - val_loss: 0.3396 - val_accuracy: 1.0000\n",
      "Epoch 19/50\n",
      "1/1 [==============================] - 0s 37ms/step - loss: 0.3396 - accuracy: 1.0000 - val_loss: 0.2760 - val_accuracy: 1.0000\n",
      "Epoch 20/50\n",
      "1/1 [==============================] - 0s 33ms/step - loss: 0.2760 - accuracy: 1.0000 - val_loss: 0.2118 - val_accuracy: 1.0000\n",
      "Epoch 21/50\n",
      "1/1 [==============================] - 0s 36ms/step - loss: 0.2118 - accuracy: 1.0000 - val_loss: 0.1446 - val_accuracy: 1.0000\n",
      "Epoch 22/50\n",
      "1/1 [==============================] - 0s 37ms/step - loss: 0.1446 - accuracy: 1.0000 - val_loss: 0.0934 - val_accuracy: 1.0000\n",
      "Epoch 23/50\n",
      "1/1 [==============================] - 0s 36ms/step - loss: 0.0934 - accuracy: 1.0000 - val_loss: 0.0625 - val_accuracy: 1.0000\n",
      "Epoch 24/50\n",
      "1/1 [==============================] - 0s 37ms/step - loss: 0.0625 - accuracy: 1.0000 - val_loss: 0.0436 - val_accuracy: 1.0000\n",
      "Epoch 25/50\n",
      "1/1 [==============================] - 0s 36ms/step - loss: 0.0436 - accuracy: 1.0000 - val_loss: 0.0308 - val_accuracy: 1.0000\n",
      "Epoch 26/50\n",
      "1/1 [==============================] - 0s 37ms/step - loss: 0.0308 - accuracy: 1.0000 - val_loss: 0.0219 - val_accuracy: 1.0000\n",
      "Epoch 27/50\n",
      "1/1 [==============================] - 0s 38ms/step - loss: 0.0219 - accuracy: 1.0000 - val_loss: 0.0155 - val_accuracy: 1.0000\n",
      "Epoch 28/50\n",
      "1/1 [==============================] - 0s 36ms/step - loss: 0.0155 - accuracy: 1.0000 - val_loss: 0.0111 - val_accuracy: 1.0000\n",
      "Epoch 29/50\n",
      "1/1 [==============================] - 0s 37ms/step - loss: 0.0111 - accuracy: 1.0000 - val_loss: 0.0079 - val_accuracy: 1.0000\n",
      "Epoch 30/50\n",
      "1/1 [==============================] - 0s 39ms/step - loss: 0.0079 - accuracy: 1.0000 - val_loss: 0.0057 - val_accuracy: 1.0000\n",
      "Epoch 31/50\n",
      "1/1 [==============================] - 0s 35ms/step - loss: 0.0057 - accuracy: 1.0000 - val_loss: 0.0042 - val_accuracy: 1.0000\n",
      "Epoch 32/50\n",
      "1/1 [==============================] - 0s 36ms/step - loss: 0.0042 - accuracy: 1.0000 - val_loss: 0.0032 - val_accuracy: 1.0000\n",
      "Epoch 33/50\n",
      "1/1 [==============================] - 0s 38ms/step - loss: 0.0032 - accuracy: 1.0000 - val_loss: 0.0024 - val_accuracy: 1.0000\n",
      "Epoch 34/50\n",
      "1/1 [==============================] - 0s 36ms/step - loss: 0.0024 - accuracy: 1.0000 - val_loss: 0.0019 - val_accuracy: 1.0000\n",
      "Epoch 35/50\n",
      "1/1 [==============================] - 0s 39ms/step - loss: 0.0019 - accuracy: 1.0000 - val_loss: 0.0015 - val_accuracy: 1.0000\n",
      "Epoch 36/50\n",
      "1/1 [==============================] - 0s 37ms/step - loss: 0.0015 - accuracy: 1.0000 - val_loss: 0.0012 - val_accuracy: 1.0000\n",
      "Epoch 37/50\n",
      "1/1 [==============================] - 0s 37ms/step - loss: 0.0012 - accuracy: 1.0000 - val_loss: 9.9566e-04 - val_accuracy: 1.0000\n",
      "Epoch 38/50\n",
      "1/1 [==============================] - 0s 38ms/step - loss: 9.9566e-04 - accuracy: 1.0000 - val_loss: 8.2349e-04 - val_accuracy: 1.0000\n",
      "Epoch 39/50\n",
      "1/1 [==============================] - 0s 35ms/step - loss: 8.2349e-04 - accuracy: 1.0000 - val_loss: 6.9022e-04 - val_accuracy: 1.0000\n",
      "Epoch 40/50\n",
      "1/1 [==============================] - 0s 33ms/step - loss: 6.9022e-04 - accuracy: 1.0000 - val_loss: 5.8743e-04 - val_accuracy: 1.0000\n",
      "Epoch 41/50\n",
      "1/1 [==============================] - 0s 35ms/step - loss: 5.8743e-04 - accuracy: 1.0000 - val_loss: 5.0414e-04 - val_accuracy: 1.0000\n",
      "Epoch 42/50\n",
      "1/1 [==============================] - 0s 36ms/step - loss: 5.0414e-04 - accuracy: 1.0000 - val_loss: 4.3575e-04 - val_accuracy: 1.0000\n",
      "Epoch 43/50\n",
      "1/1 [==============================] - 0s 37ms/step - loss: 4.3575e-04 - accuracy: 1.0000 - val_loss: 3.7964e-04 - val_accuracy: 1.0000\n",
      "Epoch 44/50\n",
      "1/1 [==============================] - 0s 36ms/step - loss: 3.7964e-04 - accuracy: 1.0000 - val_loss: 3.3386e-04 - val_accuracy: 1.0000\n",
      "Epoch 45/50\n",
      "1/1 [==============================] - 0s 35ms/step - loss: 3.3386e-04 - accuracy: 1.0000 - val_loss: 2.9613e-04 - val_accuracy: 1.0000\n",
      "Epoch 46/50\n",
      "1/1 [==============================] - 0s 37ms/step - loss: 2.9613e-04 - accuracy: 1.0000 - val_loss: 2.6448e-04 - val_accuracy: 1.0000\n",
      "Epoch 47/50\n",
      "1/1 [==============================] - 0s 38ms/step - loss: 2.6448e-04 - accuracy: 1.0000 - val_loss: 2.3802e-04 - val_accuracy: 1.0000\n",
      "Epoch 48/50\n",
      "1/1 [==============================] - 0s 42ms/step - loss: 2.3802e-04 - accuracy: 1.0000 - val_loss: 2.1576e-04 - val_accuracy: 1.0000\n",
      "Epoch 49/50\n",
      "1/1 [==============================] - 0s 37ms/step - loss: 2.1576e-04 - accuracy: 1.0000 - val_loss: 1.9696e-04 - val_accuracy: 1.0000\n",
      "Epoch 50/50\n",
      "1/1 [==============================] - 0s 41ms/step - loss: 1.9696e-04 - accuracy: 1.0000 - val_loss: 1.8101e-04 - val_accuracy: 1.0000\n"
     ]
    }
   ],
   "source": [
    "hist = model.fit(train_x, train_y, epochs=50,verbose=1, validation_data=(test_x, test_y))\n"
   ]
  },
  {
   "cell_type": "code",
   "execution_count": null,
   "metadata": {},
   "outputs": [],
   "source": []
  }
 ],
 "metadata": {
  "kernelspec": {
   "display_name": "Python 3",
   "language": "python",
   "name": "python3"
  },
  "language_info": {
   "codemirror_mode": {
    "name": "ipython",
    "version": 3
   },
   "file_extension": ".py",
   "mimetype": "text/x-python",
   "name": "python",
   "nbconvert_exporter": "python",
   "pygments_lexer": "ipython3",
   "version": "3.7.4"
  }
 },
 "nbformat": 4,
 "nbformat_minor": 2
}
